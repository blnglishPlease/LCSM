{
  "nbformat": 4,
  "nbformat_minor": 0,
  "metadata": {
    "colab": {
      "provenance": [],
      "toc_visible": true
    },
    "kernelspec": {
      "name": "python3",
      "display_name": "Python 3"
    },
    "language_info": {
      "name": "python"
    }
  },
  "cells": [
    {
      "cell_type": "markdown",
      "source": [
        "# PSI (Population Stability Index) & CSI (Characteristic Stability Index)"
      ],
      "metadata": {
        "id": "YnMedrzP0UVG"
      }
    },
    {
      "cell_type": "markdown",
      "source": [
        "## Справка"
      ],
      "metadata": {
        "id": "fGtMMXUyuBET"
      }
    },
    {
      "cell_type": "markdown",
      "source": [
        "**PSI** - позволяет измерить, насколько изменилось распределение переменной с течением времени относительно результатов на базовой выборке.\n",
        "\n",
        "**CSI** - отвечает на вопрос, какая именно переменная вызывает изменения в распределении популяции. По сути - расчет PSI для отдельной фичи.\n",
        "\n",
        "\n",
        "---\n",
        "\n",
        "\n",
        "\n",
        "**Алгоритм расчета PSI(CSI):**\n",
        "\n",
        "1. Разбиваем базовую выборку по выбранному параметру на бины\n",
        "2. Считаем долю наблюдений в каждом бине на базовой выборке\n",
        "3. Считаем долю наблюдений в каждом бине на текущей выборке\n",
        "4. Вычисляем значение индекса PSI по формуле ниже: \n",
        "\n",
        "$$PSI = \\sum\\limits_{bins}\\left((\\%Actual - \\%Expected) \\cdot \\ln{\\frac{\\%Actual}{\\%Expected}}\\right)$$\n",
        "\n",
        "---\n",
        "\n",
        "**Интерпретация PSI:**\n",
        "\n",
        "\n",
        "*   **PSI < 0.1:** в текущей выборке отсутствуют значимые изменения\n",
        "*   **0.1 < PSI < 0.25:** есть незначительные измения, которые необходимо исследовать\n",
        "*   **0.25 < PSI:** значительное смещение популяции, требуется перестроение модели\n",
        "\n",
        "\n",
        " ---\n",
        "\n",
        "\n",
        "**Методы разбиения:**\n",
        "*  По равным бинам - лучше отслеживает изменения в хвостах распределений\n",
        "*  По перцентилям - лучше отслеживает изменения на вершине \"горы\""
      ],
      "metadata": {
        "id": "DAFkKMUr8dPX"
      }
    },
    {
      "cell_type": "markdown",
      "source": [
        "## Импорты и загрузка синтетических данных"
      ],
      "metadata": {
        "id": "gTc7mUmv5AMG"
      }
    },
    {
      "cell_type": "code",
      "source": [
        "! pip install nannyml"
      ],
      "metadata": {
        "id": "qVXuaD8bRQgm"
      },
      "execution_count": null,
      "outputs": []
    },
    {
      "cell_type": "code",
      "execution_count": 2,
      "metadata": {
        "id": "RJEpX92snht3"
      },
      "outputs": [],
      "source": [
        "import numpy as np\n",
        "import pandas as pd\n",
        "import datetime\n",
        "import nannyml as nml # Для загрузки синтетических данных\n",
        "import plotly.express as px\n",
        "from IPython.display import display\n",
        "import warnings\n",
        "warnings.filterwarnings(\"ignore\")"
      ]
    },
    {
      "cell_type": "markdown",
      "source": [
        "### Синтетические данные (Car Loan Dataset):"
      ],
      "metadata": {
        "id": "sICGsmqw5X4t"
      }
    },
    {
      "cell_type": "markdown",
      "source": [
        "---\n",
        "\n",
        "\n",
        "**reference**: обучающая выборка + таргет + предсказанная вероятность и метка\n",
        "\n",
        "**analysis**: тестовая выборка + предсказанная вероятность и метка\n",
        "\n",
        "**analysis_target**: таргет тестовой выборки"
      ],
      "metadata": {
        "id": "WzWipVtGV0o3"
      }
    },
    {
      "cell_type": "code",
      "source": [
        "# Исходные данные, тестовые данные и тестовые предсказания\n",
        "reference, analysis, analysis_target = nml.load_synthetic_car_loan_dataset()\n",
        "\n",
        "# Добавляем пропуски\n",
        "analysis['repaid_loan_on_prev_car'] = analysis['repaid_loan_on_prev_car'].sample(frac=0.85)\n",
        "analysis['debt_to_income_ratio'] = analysis['debt_to_income_ratio'].sample(frac=0.85)\n",
        "\n",
        "display(reference.head())\n",
        "display(analysis.head())"
      ],
      "metadata": {
        "colab": {
          "base_uri": "https://localhost:8080/",
          "height": 396
        },
        "id": "vjwdiL_-2-tS",
        "outputId": "9412645d-fff9-47a8-c8ae-5245d3a9db0e"
      },
      "execution_count": 3,
      "outputs": [
        {
          "output_type": "display_data",
          "data": {
            "text/plain": [
              "   car_value salary_range  debt_to_income_ratio  loan_length  \\\n",
              "0    39811.0  40K - 60K €              0.632950         19.0   \n",
              "1    12679.0  40K - 60K €              0.718627          7.0   \n",
              "2    19847.0  40K - 60K €              0.721724         17.0   \n",
              "3    22652.0  20K - 20K €              0.705992         16.0   \n",
              "4    21268.0       60K+ €              0.671888         21.0   \n",
              "\n",
              "   repaid_loan_on_prev_car size_of_downpayment  driver_tenure  repaid  \\\n",
              "0                    False                 40%       0.212653     1.0   \n",
              "1                     True                 10%       4.927549     0.0   \n",
              "2                    False                  0%       0.520817     1.0   \n",
              "3                    False                 10%       0.453649     1.0   \n",
              "4                     True                 30%       5.695263     1.0   \n",
              "\n",
              "                 timestamp  y_pred_proba  y_pred  \n",
              "0  2018-01-01 00:00:00.000          0.99       1  \n",
              "1  2018-01-01 00:08:43.152          0.07       0  \n",
              "2  2018-01-01 00:17:26.304          1.00       1  \n",
              "3  2018-01-01 00:26:09.456          0.98       1  \n",
              "4  2018-01-01 00:34:52.608          0.99       1  "
            ],
            "text/html": [
              "\n",
              "  <div id=\"df-d6130062-def1-4e60-bb94-d410e9a8e783\">\n",
              "    <div class=\"colab-df-container\">\n",
              "      <div>\n",
              "<style scoped>\n",
              "    .dataframe tbody tr th:only-of-type {\n",
              "        vertical-align: middle;\n",
              "    }\n",
              "\n",
              "    .dataframe tbody tr th {\n",
              "        vertical-align: top;\n",
              "    }\n",
              "\n",
              "    .dataframe thead th {\n",
              "        text-align: right;\n",
              "    }\n",
              "</style>\n",
              "<table border=\"1\" class=\"dataframe\">\n",
              "  <thead>\n",
              "    <tr style=\"text-align: right;\">\n",
              "      <th></th>\n",
              "      <th>car_value</th>\n",
              "      <th>salary_range</th>\n",
              "      <th>debt_to_income_ratio</th>\n",
              "      <th>loan_length</th>\n",
              "      <th>repaid_loan_on_prev_car</th>\n",
              "      <th>size_of_downpayment</th>\n",
              "      <th>driver_tenure</th>\n",
              "      <th>repaid</th>\n",
              "      <th>timestamp</th>\n",
              "      <th>y_pred_proba</th>\n",
              "      <th>y_pred</th>\n",
              "    </tr>\n",
              "  </thead>\n",
              "  <tbody>\n",
              "    <tr>\n",
              "      <th>0</th>\n",
              "      <td>39811.0</td>\n",
              "      <td>40K - 60K €</td>\n",
              "      <td>0.632950</td>\n",
              "      <td>19.0</td>\n",
              "      <td>False</td>\n",
              "      <td>40%</td>\n",
              "      <td>0.212653</td>\n",
              "      <td>1.0</td>\n",
              "      <td>2018-01-01 00:00:00.000</td>\n",
              "      <td>0.99</td>\n",
              "      <td>1</td>\n",
              "    </tr>\n",
              "    <tr>\n",
              "      <th>1</th>\n",
              "      <td>12679.0</td>\n",
              "      <td>40K - 60K €</td>\n",
              "      <td>0.718627</td>\n",
              "      <td>7.0</td>\n",
              "      <td>True</td>\n",
              "      <td>10%</td>\n",
              "      <td>4.927549</td>\n",
              "      <td>0.0</td>\n",
              "      <td>2018-01-01 00:08:43.152</td>\n",
              "      <td>0.07</td>\n",
              "      <td>0</td>\n",
              "    </tr>\n",
              "    <tr>\n",
              "      <th>2</th>\n",
              "      <td>19847.0</td>\n",
              "      <td>40K - 60K €</td>\n",
              "      <td>0.721724</td>\n",
              "      <td>17.0</td>\n",
              "      <td>False</td>\n",
              "      <td>0%</td>\n",
              "      <td>0.520817</td>\n",
              "      <td>1.0</td>\n",
              "      <td>2018-01-01 00:17:26.304</td>\n",
              "      <td>1.00</td>\n",
              "      <td>1</td>\n",
              "    </tr>\n",
              "    <tr>\n",
              "      <th>3</th>\n",
              "      <td>22652.0</td>\n",
              "      <td>20K - 20K €</td>\n",
              "      <td>0.705992</td>\n",
              "      <td>16.0</td>\n",
              "      <td>False</td>\n",
              "      <td>10%</td>\n",
              "      <td>0.453649</td>\n",
              "      <td>1.0</td>\n",
              "      <td>2018-01-01 00:26:09.456</td>\n",
              "      <td>0.98</td>\n",
              "      <td>1</td>\n",
              "    </tr>\n",
              "    <tr>\n",
              "      <th>4</th>\n",
              "      <td>21268.0</td>\n",
              "      <td>60K+ €</td>\n",
              "      <td>0.671888</td>\n",
              "      <td>21.0</td>\n",
              "      <td>True</td>\n",
              "      <td>30%</td>\n",
              "      <td>5.695263</td>\n",
              "      <td>1.0</td>\n",
              "      <td>2018-01-01 00:34:52.608</td>\n",
              "      <td>0.99</td>\n",
              "      <td>1</td>\n",
              "    </tr>\n",
              "  </tbody>\n",
              "</table>\n",
              "</div>\n",
              "      <button class=\"colab-df-convert\" onclick=\"convertToInteractive('df-d6130062-def1-4e60-bb94-d410e9a8e783')\"\n",
              "              title=\"Convert this dataframe to an interactive table.\"\n",
              "              style=\"display:none;\">\n",
              "        \n",
              "  <svg xmlns=\"http://www.w3.org/2000/svg\" height=\"24px\"viewBox=\"0 0 24 24\"\n",
              "       width=\"24px\">\n",
              "    <path d=\"M0 0h24v24H0V0z\" fill=\"none\"/>\n",
              "    <path d=\"M18.56 5.44l.94 2.06.94-2.06 2.06-.94-2.06-.94-.94-2.06-.94 2.06-2.06.94zm-11 1L8.5 8.5l.94-2.06 2.06-.94-2.06-.94L8.5 2.5l-.94 2.06-2.06.94zm10 10l.94 2.06.94-2.06 2.06-.94-2.06-.94-.94-2.06-.94 2.06-2.06.94z\"/><path d=\"M17.41 7.96l-1.37-1.37c-.4-.4-.92-.59-1.43-.59-.52 0-1.04.2-1.43.59L10.3 9.45l-7.72 7.72c-.78.78-.78 2.05 0 2.83L4 21.41c.39.39.9.59 1.41.59.51 0 1.02-.2 1.41-.59l7.78-7.78 2.81-2.81c.8-.78.8-2.07 0-2.86zM5.41 20L4 18.59l7.72-7.72 1.47 1.35L5.41 20z\"/>\n",
              "  </svg>\n",
              "      </button>\n",
              "      \n",
              "  <style>\n",
              "    .colab-df-container {\n",
              "      display:flex;\n",
              "      flex-wrap:wrap;\n",
              "      gap: 12px;\n",
              "    }\n",
              "\n",
              "    .colab-df-convert {\n",
              "      background-color: #E8F0FE;\n",
              "      border: none;\n",
              "      border-radius: 50%;\n",
              "      cursor: pointer;\n",
              "      display: none;\n",
              "      fill: #1967D2;\n",
              "      height: 32px;\n",
              "      padding: 0 0 0 0;\n",
              "      width: 32px;\n",
              "    }\n",
              "\n",
              "    .colab-df-convert:hover {\n",
              "      background-color: #E2EBFA;\n",
              "      box-shadow: 0px 1px 2px rgba(60, 64, 67, 0.3), 0px 1px 3px 1px rgba(60, 64, 67, 0.15);\n",
              "      fill: #174EA6;\n",
              "    }\n",
              "\n",
              "    [theme=dark] .colab-df-convert {\n",
              "      background-color: #3B4455;\n",
              "      fill: #D2E3FC;\n",
              "    }\n",
              "\n",
              "    [theme=dark] .colab-df-convert:hover {\n",
              "      background-color: #434B5C;\n",
              "      box-shadow: 0px 1px 3px 1px rgba(0, 0, 0, 0.15);\n",
              "      filter: drop-shadow(0px 1px 2px rgba(0, 0, 0, 0.3));\n",
              "      fill: #FFFFFF;\n",
              "    }\n",
              "  </style>\n",
              "\n",
              "      <script>\n",
              "        const buttonEl =\n",
              "          document.querySelector('#df-d6130062-def1-4e60-bb94-d410e9a8e783 button.colab-df-convert');\n",
              "        buttonEl.style.display =\n",
              "          google.colab.kernel.accessAllowed ? 'block' : 'none';\n",
              "\n",
              "        async function convertToInteractive(key) {\n",
              "          const element = document.querySelector('#df-d6130062-def1-4e60-bb94-d410e9a8e783');\n",
              "          const dataTable =\n",
              "            await google.colab.kernel.invokeFunction('convertToInteractive',\n",
              "                                                     [key], {});\n",
              "          if (!dataTable) return;\n",
              "\n",
              "          const docLinkHtml = 'Like what you see? Visit the ' +\n",
              "            '<a target=\"_blank\" href=https://colab.research.google.com/notebooks/data_table.ipynb>data table notebook</a>'\n",
              "            + ' to learn more about interactive tables.';\n",
              "          element.innerHTML = '';\n",
              "          dataTable['output_type'] = 'display_data';\n",
              "          await google.colab.output.renderOutput(dataTable, element);\n",
              "          const docLink = document.createElement('div');\n",
              "          docLink.innerHTML = docLinkHtml;\n",
              "          element.appendChild(docLink);\n",
              "        }\n",
              "      </script>\n",
              "    </div>\n",
              "  </div>\n",
              "  "
            ]
          },
          "metadata": {}
        },
        {
          "output_type": "display_data",
          "data": {
            "text/plain": [
              "   car_value salary_range  debt_to_income_ratio  loan_length  \\\n",
              "0    12638.0    0 - 20K €              0.487926         21.0   \n",
              "1    52425.0  20K - 20K €              0.672183         20.0   \n",
              "2    20369.0  40K - 60K €              0.703090         19.0   \n",
              "3    10592.0  20K - 20K €              0.653258         21.0   \n",
              "4    33933.0    0 - 20K €              0.722263         18.0   \n",
              "\n",
              "  repaid_loan_on_prev_car size_of_downpayment  driver_tenure  \\\n",
              "0                   False                 10%       4.224628   \n",
              "1                   False                 40%       4.963103   \n",
              "2                    True                 40%       4.588951   \n",
              "3                   False                 10%       4.711015   \n",
              "4                   False                  0%       0.906738   \n",
              "\n",
              "                 timestamp  y_pred_proba  y_pred  \n",
              "0  2018-10-30 18:00:00.000          0.99       1  \n",
              "1  2018-10-30 18:08:43.152          0.98       1  \n",
              "2  2018-10-30 18:17:26.304          0.98       1  \n",
              "3  2018-10-30 18:26:09.456          0.97       1  \n",
              "4  2018-10-30 18:34:52.608          0.92       1  "
            ],
            "text/html": [
              "\n",
              "  <div id=\"df-5e61126a-9cbe-4b62-a46b-508d9cd1c4bd\">\n",
              "    <div class=\"colab-df-container\">\n",
              "      <div>\n",
              "<style scoped>\n",
              "    .dataframe tbody tr th:only-of-type {\n",
              "        vertical-align: middle;\n",
              "    }\n",
              "\n",
              "    .dataframe tbody tr th {\n",
              "        vertical-align: top;\n",
              "    }\n",
              "\n",
              "    .dataframe thead th {\n",
              "        text-align: right;\n",
              "    }\n",
              "</style>\n",
              "<table border=\"1\" class=\"dataframe\">\n",
              "  <thead>\n",
              "    <tr style=\"text-align: right;\">\n",
              "      <th></th>\n",
              "      <th>car_value</th>\n",
              "      <th>salary_range</th>\n",
              "      <th>debt_to_income_ratio</th>\n",
              "      <th>loan_length</th>\n",
              "      <th>repaid_loan_on_prev_car</th>\n",
              "      <th>size_of_downpayment</th>\n",
              "      <th>driver_tenure</th>\n",
              "      <th>timestamp</th>\n",
              "      <th>y_pred_proba</th>\n",
              "      <th>y_pred</th>\n",
              "    </tr>\n",
              "  </thead>\n",
              "  <tbody>\n",
              "    <tr>\n",
              "      <th>0</th>\n",
              "      <td>12638.0</td>\n",
              "      <td>0 - 20K €</td>\n",
              "      <td>0.487926</td>\n",
              "      <td>21.0</td>\n",
              "      <td>False</td>\n",
              "      <td>10%</td>\n",
              "      <td>4.224628</td>\n",
              "      <td>2018-10-30 18:00:00.000</td>\n",
              "      <td>0.99</td>\n",
              "      <td>1</td>\n",
              "    </tr>\n",
              "    <tr>\n",
              "      <th>1</th>\n",
              "      <td>52425.0</td>\n",
              "      <td>20K - 20K €</td>\n",
              "      <td>0.672183</td>\n",
              "      <td>20.0</td>\n",
              "      <td>False</td>\n",
              "      <td>40%</td>\n",
              "      <td>4.963103</td>\n",
              "      <td>2018-10-30 18:08:43.152</td>\n",
              "      <td>0.98</td>\n",
              "      <td>1</td>\n",
              "    </tr>\n",
              "    <tr>\n",
              "      <th>2</th>\n",
              "      <td>20369.0</td>\n",
              "      <td>40K - 60K €</td>\n",
              "      <td>0.703090</td>\n",
              "      <td>19.0</td>\n",
              "      <td>True</td>\n",
              "      <td>40%</td>\n",
              "      <td>4.588951</td>\n",
              "      <td>2018-10-30 18:17:26.304</td>\n",
              "      <td>0.98</td>\n",
              "      <td>1</td>\n",
              "    </tr>\n",
              "    <tr>\n",
              "      <th>3</th>\n",
              "      <td>10592.0</td>\n",
              "      <td>20K - 20K €</td>\n",
              "      <td>0.653258</td>\n",
              "      <td>21.0</td>\n",
              "      <td>False</td>\n",
              "      <td>10%</td>\n",
              "      <td>4.711015</td>\n",
              "      <td>2018-10-30 18:26:09.456</td>\n",
              "      <td>0.97</td>\n",
              "      <td>1</td>\n",
              "    </tr>\n",
              "    <tr>\n",
              "      <th>4</th>\n",
              "      <td>33933.0</td>\n",
              "      <td>0 - 20K €</td>\n",
              "      <td>0.722263</td>\n",
              "      <td>18.0</td>\n",
              "      <td>False</td>\n",
              "      <td>0%</td>\n",
              "      <td>0.906738</td>\n",
              "      <td>2018-10-30 18:34:52.608</td>\n",
              "      <td>0.92</td>\n",
              "      <td>1</td>\n",
              "    </tr>\n",
              "  </tbody>\n",
              "</table>\n",
              "</div>\n",
              "      <button class=\"colab-df-convert\" onclick=\"convertToInteractive('df-5e61126a-9cbe-4b62-a46b-508d9cd1c4bd')\"\n",
              "              title=\"Convert this dataframe to an interactive table.\"\n",
              "              style=\"display:none;\">\n",
              "        \n",
              "  <svg xmlns=\"http://www.w3.org/2000/svg\" height=\"24px\"viewBox=\"0 0 24 24\"\n",
              "       width=\"24px\">\n",
              "    <path d=\"M0 0h24v24H0V0z\" fill=\"none\"/>\n",
              "    <path d=\"M18.56 5.44l.94 2.06.94-2.06 2.06-.94-2.06-.94-.94-2.06-.94 2.06-2.06.94zm-11 1L8.5 8.5l.94-2.06 2.06-.94-2.06-.94L8.5 2.5l-.94 2.06-2.06.94zm10 10l.94 2.06.94-2.06 2.06-.94-2.06-.94-.94-2.06-.94 2.06-2.06.94z\"/><path d=\"M17.41 7.96l-1.37-1.37c-.4-.4-.92-.59-1.43-.59-.52 0-1.04.2-1.43.59L10.3 9.45l-7.72 7.72c-.78.78-.78 2.05 0 2.83L4 21.41c.39.39.9.59 1.41.59.51 0 1.02-.2 1.41-.59l7.78-7.78 2.81-2.81c.8-.78.8-2.07 0-2.86zM5.41 20L4 18.59l7.72-7.72 1.47 1.35L5.41 20z\"/>\n",
              "  </svg>\n",
              "      </button>\n",
              "      \n",
              "  <style>\n",
              "    .colab-df-container {\n",
              "      display:flex;\n",
              "      flex-wrap:wrap;\n",
              "      gap: 12px;\n",
              "    }\n",
              "\n",
              "    .colab-df-convert {\n",
              "      background-color: #E8F0FE;\n",
              "      border: none;\n",
              "      border-radius: 50%;\n",
              "      cursor: pointer;\n",
              "      display: none;\n",
              "      fill: #1967D2;\n",
              "      height: 32px;\n",
              "      padding: 0 0 0 0;\n",
              "      width: 32px;\n",
              "    }\n",
              "\n",
              "    .colab-df-convert:hover {\n",
              "      background-color: #E2EBFA;\n",
              "      box-shadow: 0px 1px 2px rgba(60, 64, 67, 0.3), 0px 1px 3px 1px rgba(60, 64, 67, 0.15);\n",
              "      fill: #174EA6;\n",
              "    }\n",
              "\n",
              "    [theme=dark] .colab-df-convert {\n",
              "      background-color: #3B4455;\n",
              "      fill: #D2E3FC;\n",
              "    }\n",
              "\n",
              "    [theme=dark] .colab-df-convert:hover {\n",
              "      background-color: #434B5C;\n",
              "      box-shadow: 0px 1px 3px 1px rgba(0, 0, 0, 0.15);\n",
              "      filter: drop-shadow(0px 1px 2px rgba(0, 0, 0, 0.3));\n",
              "      fill: #FFFFFF;\n",
              "    }\n",
              "  </style>\n",
              "\n",
              "      <script>\n",
              "        const buttonEl =\n",
              "          document.querySelector('#df-5e61126a-9cbe-4b62-a46b-508d9cd1c4bd button.colab-df-convert');\n",
              "        buttonEl.style.display =\n",
              "          google.colab.kernel.accessAllowed ? 'block' : 'none';\n",
              "\n",
              "        async function convertToInteractive(key) {\n",
              "          const element = document.querySelector('#df-5e61126a-9cbe-4b62-a46b-508d9cd1c4bd');\n",
              "          const dataTable =\n",
              "            await google.colab.kernel.invokeFunction('convertToInteractive',\n",
              "                                                     [key], {});\n",
              "          if (!dataTable) return;\n",
              "\n",
              "          const docLinkHtml = 'Like what you see? Visit the ' +\n",
              "            '<a target=\"_blank\" href=https://colab.research.google.com/notebooks/data_table.ipynb>data table notebook</a>'\n",
              "            + ' to learn more about interactive tables.';\n",
              "          element.innerHTML = '';\n",
              "          dataTable['output_type'] = 'display_data';\n",
              "          await google.colab.output.renderOutput(dataTable, element);\n",
              "          const docLink = document.createElement('div');\n",
              "          docLink.innerHTML = docLinkHtml;\n",
              "          element.appendChild(docLink);\n",
              "        }\n",
              "      </script>\n",
              "    </div>\n",
              "  </div>\n",
              "  "
            ]
          },
          "metadata": {}
        }
      ]
    },
    {
      "cell_type": "markdown",
      "source": [
        "## PSI"
      ],
      "metadata": {
        "id": "ZeoCoBuGkeGW"
      }
    },
    {
      "cell_type": "code",
      "source": [
        "def get_cat_buckets(expected_data, actual_data):\n",
        "    \n",
        "    \"\"\"\n",
        "    Разделяет выборки с дискретными значениями на n_buckets бакетов.\n",
        "    В случае, когда уникальных числовых значений в выборках меньше, чем n_buckets, вызывает get_cat_buckets()\n",
        "\n",
        "    Returns:\n",
        "        buckets - границы бакетов\n",
        "        expected_bucket_pts - высота каждого бакета в исходной выборке\n",
        "        actual_bucket_pts - высота каждого бакета в текущей выборке\n",
        "        expected_data_len - число записей в исходной выборке\n",
        "        actual_data_len - число записей в текущей выборке\n",
        "        expected_nans - число пропусков в исходной выборке\n",
        "        actual_nans - число пропусков в текущей выборке\n",
        "    \"\"\"\n",
        "    \n",
        "    # Приведение к строковому типу для корректной обработки пропусков\n",
        "    expected_data = np.array(expected_data).astype(str)\n",
        "    actual_data = np.array(actual_data).astype(str)\n",
        "\n",
        "    # Обработка пропусков\n",
        "    expected_nans = np.count_nonzero(expected_data == 'nan')\n",
        "    actual_nans = np.count_nonzero(actual_data == 'nan')\n",
        "    expected_data = expected_data[expected_data != 'nan']\n",
        "    actual_data = actual_data[actual_data != 'nan']\n",
        "\n",
        "    # Подсчет количества уникальных значений\n",
        "    expected_vals, expected_vals_cnt = np.unique(expected_data, return_counts=True)\n",
        "    actual_vals, actual_vals_cnt = np.unique(actual_data, return_counts=True)\n",
        "    \n",
        "    # Объединение уникальных значений из двух выборок\n",
        "    buckets = np.array(list(set(actual_vals) | set(expected_vals)))\n",
        "\n",
        "    expected_vals_dict = dict(zip(expected_vals, expected_vals_cnt))\n",
        "    actual_vals_dict = dict(zip(actual_vals,  actual_vals_cnt))\n",
        "    \n",
        "    # 'Заполняем' бакеты\n",
        "    expected_bucket_pts = np.array([expected_vals_dict.get(val) if val in expected_vals else 0 for val in buckets])\n",
        "    actual_bucket_pts = np.array([actual_vals_dict.get(val) if val in actual_vals else 0 for val in buckets])\n",
        "    expected_data_len = np.sum(expected_vals_cnt)\n",
        "    actual_data_len = np.sum(actual_vals_cnt)\n",
        "\n",
        "    return buckets, expected_bucket_pts, actual_bucket_pts, expected_data_len, actual_data_len, expected_nans, actual_nans\n",
        "\n",
        "\n",
        "def get_num_buckets(expected_data, actual_data, n_buckets=10, bucket_type='bins'):\n",
        "    \n",
        "    \"\"\"\n",
        "    Разделяет числовые выборки на n_buckets бакетов в зависимости от выбранного bucket_type.\n",
        "    В случае, когда уникальных числовых значений в выборках меньше, чем n_buckets, вызывается get_cat_buckets()\n",
        "\n",
        "    Returns:\n",
        "        buckets - границы бакетов\n",
        "        expected_bucket_pts - высота каждого бакета в исходной выборке\n",
        "        actual_bucket_pts - высота каждого бакета в текущей выборке\n",
        "        expected_data_len - число записей в исходной выборке\n",
        "        actual_data_len - число записей в текущей выборке\n",
        "        expected_nans - число пропусков в исходной выборке\n",
        "        actual_nans - число пропусков в текущей выборке\n",
        "    \"\"\"\n",
        "\n",
        "    # Обработка пропусков\n",
        "    expected_nans = np.count_nonzero(np.isnan(expected_data))\n",
        "    actual_nans = np.count_nonzero(np.isnan(actual_data))\n",
        "    expected_data = expected_data[~np.isnan(expected_data)]\n",
        "    actual_data = actual_data[~np.isnan(actual_data)]\n",
        "    \n",
        "    # Подсчет количества уникальных значений в исходных данных\n",
        "    expected_vals, expected_vals_cnt = np.unique(expected_data, return_counts=True)\n",
        "    unique_cnt = expected_vals.shape[0]\n",
        "    \n",
        "    # Если уникальных значений меньше чем бакетов, то рассчитываем, как для дискретных значений\n",
        "    if unique_cnt < n_buckets:\n",
        "        return get_cat_buckets(expected_data, actual_data)\n",
        "\n",
        "    buckets = np.linspace(0, 1, n_buckets + 1)\n",
        "    \n",
        "    # Бакеты равной ширины\n",
        "    if bucket_type == 'bins':\n",
        "        unique_vals = np.append(expected_vals, [np.min(actual_data), np.max(actual_data)])\n",
        "        buckets = np.min(unique_vals) + buckets * (np.max(expected_vals) - np.min(expected_vals))\n",
        "        \n",
        "    # Бакеты равной высоты\n",
        "    elif bucket_type == 'percentiles':\n",
        "        buckets = np.quantile(expected_data, buckets, method='averaged_inverted_cdf')\n",
        "\n",
        "    # 'Заполняем' бакеты\n",
        "    expected_bucket_pts = np.histogram(expected_data, buckets)[0]\n",
        "    actual_bucket_pts = np.histogram(actual_data, buckets)[0]\n",
        "    expected_data_len = len(expected_data)\n",
        "    actual_data_len = len(actual_data)\n",
        "\n",
        "    # Округление бакетов\n",
        "    buckets = [round(x, 2) for x in buckets]\n",
        "\n",
        "    return buckets, expected_bucket_pts, actual_bucket_pts, expected_data_len, actual_data_len, expected_nans, actual_nans\n",
        "\n",
        "\n",
        "def get_buckets(expected_data, actual_data, n_buckets=10, bucket_type='bins', nan_bucket=True):\n",
        "    \n",
        "    \"\"\"\n",
        "    Разделяет выборки на бакеты и считает для каждого бакета долю вхождений\n",
        "\n",
        "    Returns:\n",
        "        buckets - метки(границы) бакетов\n",
        "        expected_prc - доля значений в каждом бакете для исходной выборки\n",
        "        actual_prc - доля значений в каждом бакете для текущей выборки\n",
        "    \"\"\"\n",
        "    \n",
        "    # Числовые переменные\n",
        "    if np.issubdtype(np.hstack([expected_data, actual_data]).dtype, np.number):\n",
        "        buckets, expected_bucket_pts, actual_bucket_pts, expected_data_len, actual_data_len, expected_nans, actual_nans = get_num_buckets(expected_data, actual_data, n_buckets, bucket_type)\n",
        "    \n",
        "    # Категориальные переменные\n",
        "    else:\n",
        "        buckets, expected_bucket_pts, actual_bucket_pts, expected_data_len, actual_data_len, expected_nans, actual_nans = get_cat_buckets(expected_data, actual_data)\n",
        "\n",
        "    # Добавление бакета для пропущенных значений\n",
        "    if nan_bucket and (expected_nans != 0 or actual_nans != 0):\n",
        "        buckets = np.append(buckets, 'nan')\n",
        "        expected_bucket_pts = np.append(expected_bucket_pts, expected_nans)\n",
        "        actual_bucket_pts = np.append(actual_bucket_pts, actual_nans)\n",
        "        expected_data_len = expected_data_len + expected_nans\n",
        "        actual_data_len = actual_data_len + actual_nans\n",
        "\n",
        "    # Расчет процентов\n",
        "    expected_prc = expected_bucket_pts / expected_data_len\n",
        "    actual_prc = actual_bucket_pts / actual_data_len\n",
        "\n",
        "    return buckets, expected_prc, actual_prc\n",
        "\n",
        "\n",
        "def get_psi(expected_data, actual_data, n_buckets=10, bucket_type='bins', nan_bucket=True):\n",
        "    \"\"\"\n",
        "        Рассчитывает индекс PSI для одной переменной(признака)\n",
        "        \n",
        "        Input: \n",
        "            expected_data - массив исходных данных\n",
        "            actual_data - массив текущих данных\n",
        "            n_buckets - число корзин, на которые делится спектр значений. Не учитывает корзину для пропусков. Не используется при категориальных данных.\n",
        "            bucket_type - метод разбиения на корзины. 'bins' для корзин равной ширины, 'percentiles' для корзин равной высоты. Не используется при категориальных данных.\n",
        "            nan_bucket - флаг учета корзины для пропусков\n",
        "        Output:\n",
        "            psi - значение индекса\n",
        "    \"\"\"\n",
        "    \n",
        "    # Поправка для пустых корзин\n",
        "    EPS = 1e-4\n",
        "\n",
        "    buckets, expected_prc, actual_prc  = get_buckets(expected_data, actual_data, n_buckets, bucket_type, nan_bucket)\n",
        "    \n",
        "    # Обработка пустых корзин\n",
        "    np.place(expected_prc, expected_prc == 0, EPS)\n",
        "    np.place(actual_prc, actual_prc == 0, EPS)\n",
        "\n",
        "    # Расчет индекса\n",
        "    psi_buckets = (actual_prc - expected_prc) * np.log(actual_prc / expected_prc)\n",
        "    psi = np.sum(psi_buckets)\n",
        "    return psi\n",
        "\n",
        "def get_features_psi(expected_df, actual_df, columns=None, n_buckets=10, bucket_types='bins', nan_buckets=True, returned=False):\n",
        "    \"\"\"\n",
        "        Расчет PSI для всех(или указанных) признаков в датафрейме. Не рассчитывается для столбцов с датами\n",
        "        Input: \n",
        "            expected_df - датафрейм исходных данных\n",
        "            actual_df - датафрейм текущих данных\n",
        "            columns - список названий столбцов в исходном датафрейме, которые необходимо учесть. По умолчанию - все\n",
        "            n_buckets - массив содержащий требуемое число корзин для каждого признака из columns. Не учитывает корзину для пропусков. Не используется при категориальных данных.\n",
        "            bucket_types - массив содержащий требуемый метод разбиения на корзины для каждого признака из columns. 'bins' для корзин равной ширины, 'percentiles' для корзин равной высоты. Не используется при категориальных данных.\n",
        "            nan_buckets - bool/массив флагов учета корзины для пропусков для каждого признака из columns\n",
        "            returned - флаг возвращения списка названий столбцов. Наиболее полезен при columns = None на входе \n",
        "        Output:\n",
        "            features_psi - массив значений индекса для каждого признака\n",
        "            [columns] - когда returned = True, возвращает названия столбцов, для которых рассчитан индекс\n",
        "    \"\"\"\n",
        "    \n",
        "    # Обработка пустого списка названий столбцов\n",
        "    if columns is None:\n",
        "        columns = expected_df.columns\n",
        "\n",
        "    features_psi = []\n",
        "\n",
        "    for i, col in enumerate(columns):\n",
        "        \n",
        "        # Обработка столбцов не входящих в исходную выборку\n",
        "        if col not in expected_df.columns:\n",
        "            features_psi.append('Not in expected df')\n",
        "\n",
        "        # Обработка столбцов не входящих в актуальную выборку\n",
        "        elif col not in actual_df.columns:\n",
        "            features_psi.append('Not in actual df')\n",
        "        else:\n",
        "            \n",
        "            # Проверка наличия списка n_buckets на входе\n",
        "            if hasattr(n_buckets, \"__len__\"):\n",
        "                n = n_buckets[i]\n",
        "            else:\n",
        "                n = n_buckets\n",
        "\n",
        "            # Проверка наличия списка bucket_types на входе\n",
        "            if hasattr(bucket_types, \"__len__\") and type(bucket_types) is not str:\n",
        "                bucket_type = bucket_types[i]\n",
        "            else:\n",
        "                bucket_type = bucket_types\n",
        "\n",
        "            # Проверка наличия списка nan_buckets на входе\n",
        "            if hasattr(nan_buckets, \"__len__\"):\n",
        "                nan_bucket = nan_buckets[i]\n",
        "            else:\n",
        "                nan_bucket = nan_buckets\n",
        "\n",
        "            psi = get_psi(expected_df[col], actual_df[col], n, bucket_type, nan_bucket)\n",
        "            features_psi.append(psi)\n",
        "        \n",
        "    if returned:\n",
        "        return features_psi, columns \n",
        "    else:\n",
        "        return features_psi\n",
        "\n",
        "def get_weighted_psi(expected_df, actual_df, columns=None, weights=None, n_buckets=10, bucket_types='bins', nan_buckets=True, returned=False):\n",
        "    \"\"\"\n",
        "        Расчет PSI методом взвешенного суммирования значений PSI для признаков\n",
        "        Input: \n",
        "            expected_df - датафрейм исходных данных\n",
        "            actual_df - датафрейм текущих данных\n",
        "            weights - массив весов для признаков\n",
        "            columns - список названий колонок в датафрейме, которые необходимо учесть в суммировании. По умолчанию - все\n",
        "            n_buckets - массив содержащий требуемое число корзин для каждого признака. Не учитывает корзину для пропусков. Не используется при категориальных данных.\n",
        "            bucket_types - массив содержащий требуемый метод разбиения на корзины для каждого признака. 'bins' для корзин равной ширины, 'percentiles' для корзин равной высоты. Не используется при категориальных данных.\n",
        "            nan_buckets - bool/массив флагов учета корзины для пропусков\n",
        "        Output:\n",
        "            weighted_psi - значение индекса\n",
        "            [sum_of_weights] - когда returned = True, возвращает сумму весов\n",
        "    \"\"\"\n",
        "\n",
        "    # Обработка пустого списка названий столбцов\n",
        "    if columns is None:\n",
        "        columns = expected_df.columns\n",
        "        \n",
        "    # Расчет PSI для признаков из списка\n",
        "    features_psi = get_features_psi(expected_df, actual_df, columns, n_buckets, bucket_types, nan_buckets)\n",
        "\n",
        "    # Маска корректных значений PSI\n",
        "    mask = [type(feature_psi) is not str for feature_psi in features_psi]\n",
        "\n",
        "    # Применение маски к массиву PSI для признаков\n",
        "    features_psi_masked = np.array(features_psi)[mask]\n",
        "    features_psi_masked = features_psi_masked.astype(np.float64)\n",
        "    \n",
        "    # Обработка пустого списка весов и применение маски\n",
        "    weights_masked = weights\n",
        "    if weights is not None:\n",
        "        weights_masked = np.array(weights)[mask]\n",
        "    \n",
        "    # Расчет взвешенной суммы\n",
        "    weighted_psi = np.average(features_psi_masked, weights=weights_masked, returned=returned)\n",
        "\n",
        "    return weighted_psi\n"
      ],
      "metadata": {
        "id": "vRuHrkV1WDht"
      },
      "execution_count": 4,
      "outputs": []
    },
    {
      "cell_type": "markdown",
      "source": [
        "## Примеры"
      ],
      "metadata": {
        "id": "fkLFatL0QgSh"
      }
    },
    {
      "cell_type": "markdown",
      "source": [
        "PSI предсказанных меток с бакетами одинаковой ширины"
      ],
      "metadata": {
        "id": "m818eyKFNmz4"
      }
    },
    {
      "cell_type": "code",
      "source": [
        "buckets, expected_prc, actual_prc  = get_buckets(reference.y_pred_proba, analysis.y_pred_proba, n_buckets=15, bucket_type='bins')\n",
        "psi = get_psi(reference.y_pred_proba, analysis.y_pred_proba, n_buckets=15, bucket_type='bins')\n",
        "\n",
        "print('PSI: ', psi, '\\n')\n",
        "print('Buckets borders: ', buckets, '\\n')\n",
        "print('Expected percents in buckets: ', expected_prc, '\\n')\n",
        "print('Actual percents in buckets: ', actual_prc, '\\n')"
      ],
      "metadata": {
        "colab": {
          "base_uri": "https://localhost:8080/"
        },
        "id": "W_0ckJdutOig",
        "outputId": "c4aa5656-46be-478b-bcbf-d237c4653c80"
      },
      "execution_count": 5,
      "outputs": [
        {
          "output_type": "stream",
          "name": "stdout",
          "text": [
            "PSI:  0.0667574535226368 \n",
            "\n",
            "Buckets borders:  [0.0, 0.07, 0.13, 0.2, 0.27, 0.33, 0.4, 0.47, 0.53, 0.6, 0.67, 0.73, 0.8, 0.87, 0.93, 1.0] \n",
            "\n",
            "Expected percents in buckets:  [0.3585  0.07358 0.02172 0.01476 0.00968 0.00784 0.00802 0.00762 0.00638\n",
            " 0.01008 0.01306 0.01504 0.02792 0.07956 0.34624] \n",
            "\n",
            "Actual percents in buckets:  [0.29412 0.08692 0.03344 0.0243  0.01698 0.01236 0.01292 0.01122 0.01062\n",
            " 0.0148  0.01902 0.02272 0.0452  0.10206 0.29332] \n",
            "\n"
          ]
        }
      ]
    },
    {
      "cell_type": "markdown",
      "source": [
        "PSI предсказанных меток с бакетами одинаковой высоты"
      ],
      "metadata": {
        "id": "I8ksuF-GNy_1"
      }
    },
    {
      "cell_type": "code",
      "source": [
        "buckets, expected_prc, actual_prc  = get_buckets(reference.y_pred_proba, analysis.y_pred_proba, n_buckets=15, bucket_type='percentiles')\n",
        "psi = get_psi(reference.y_pred_proba, analysis.y_pred_proba, n_buckets=15, bucket_type='percentiles')\n",
        "\n",
        "print('PSI: ', psi, '\\n')\n",
        "print('Buckets borders: ', buckets, '\\n')\n",
        "print('Expected percents in buckets: ', expected_prc, '\\n')\n",
        "print('Actual percents in buckets: ', actual_prc, '\\n')"
      ],
      "metadata": {
        "colab": {
          "base_uri": "https://localhost:8080/"
        },
        "outputId": "141af9d5-69d4-4d76-8689-13d88dd74fd9",
        "id": "r110TUJVL9FS"
      },
      "execution_count": 6,
      "outputs": [
        {
          "output_type": "stream",
          "name": "stdout",
          "text": [
            "PSI:  0.07423276503140393 \n",
            "\n",
            "Buckets borders:  [0.0, 0.0, 0.01, 0.02, 0.03, 0.05, 0.09, 0.25, 0.75, 0.9, 0.94, 0.96, 0.98, 0.99, 0.99, 1.0] \n",
            "\n",
            "Expected percents in buckets:  [0.      0.07606 0.07858 0.06528 0.08768 0.08368 0.07402 0.06802 0.06414\n",
            " 0.0563  0.0536  0.089   0.06472 0.      0.13892] \n",
            "\n",
            "Actual percents in buckets:  [0.      0.0541  0.06098 0.05164 0.07702 0.0855  0.10364 0.10716 0.09768\n",
            " 0.06896 0.05342 0.08394 0.05212 0.      0.10384] \n",
            "\n"
          ]
        }
      ]
    },
    {
      "cell_type": "markdown",
      "source": [
        "PSI категориального признака"
      ],
      "metadata": {
        "id": "AH3GW9gtN2T0"
      }
    },
    {
      "cell_type": "code",
      "source": [
        "buckets, expected_prc, actual_prc  = get_buckets(reference.salary_range, analysis.salary_range)\n",
        "psi = get_psi(reference.salary_range, analysis.salary_range)\n",
        "\n",
        "print('PSI: ', psi, '\\n')\n",
        "print('Buckets: ', buckets, '\\n')\n",
        "print('Expected percents in buckets: ', expected_prc, '\\n')\n",
        "print('Actual percents in buckets: ', actual_prc, '\\n')"
      ],
      "metadata": {
        "colab": {
          "base_uri": "https://localhost:8080/"
        },
        "outputId": "32c27846-fd61-429f-ef40-e7bd1e86d642",
        "id": "S85MuuDDODV1"
      },
      "execution_count": 7,
      "outputs": [
        {
          "output_type": "stream",
          "name": "stdout",
          "text": [
            "PSI:  0.03189615940796424 \n",
            "\n",
            "Buckets:  ['20K - 20K €' '40K - 60K €' '0 - 20K €' '60K+ €'] \n",
            "\n",
            "Expected percents in buckets:  [0.30094 0.19954 0.39836 0.10116] \n",
            "\n",
            "Actual percents in buckets:  [0.3153  0.21032 0.4203  0.05408] \n",
            "\n"
          ]
        }
      ]
    },
    {
      "cell_type": "markdown",
      "source": [
        "PSI с бакетом для пропусков"
      ],
      "metadata": {
        "id": "q3NtmbtJN8hi"
      }
    },
    {
      "cell_type": "code",
      "source": [
        "buckets, expected_prc, actual_prc  = get_buckets(reference.repaid_loan_on_prev_car, analysis.repaid_loan_on_prev_car)\n",
        "psi = get_psi(reference.repaid_loan_on_prev_car, analysis.repaid_loan_on_prev_car)\n",
        "\n",
        "print('PSI: ', psi, '\\n')\n",
        "print('Buckets: ', buckets, '\\n')\n",
        "print('Expected percents in buckets: ', expected_prc, '\\n')\n",
        "print('Actual percents in buckets: ', actual_prc, '\\n')"
      ],
      "metadata": {
        "colab": {
          "base_uri": "https://localhost:8080/"
        },
        "id": "nhv0oc_CLmki",
        "outputId": "3fbf7f52-3f29-4239-c49f-5be21208886f"
      },
      "execution_count": 8,
      "outputs": [
        {
          "output_type": "stream",
          "name": "stdout",
          "text": [
            "PSI:  1.1815308464315968 \n",
            "\n",
            "Buckets:  ['True' 'False' 'nan'] \n",
            "\n",
            "Expected percents in buckets:  [0.55094 0.44906 0.     ] \n",
            "\n",
            "Actual percents in buckets:  [0.57408 0.27592 0.15   ] \n",
            "\n"
          ]
        }
      ]
    },
    {
      "cell_type": "markdown",
      "source": [
        "Тот же PSI без бакета для пропусков"
      ],
      "metadata": {
        "id": "LPEQ3q4RPivd"
      }
    },
    {
      "cell_type": "code",
      "source": [
        "buckets, expected_prc, actual_prc  = get_buckets(reference.repaid_loan_on_prev_car, analysis.repaid_loan_on_prev_car, nan_bucket=False)\n",
        "psi = get_psi(reference.repaid_loan_on_prev_car, analysis.repaid_loan_on_prev_car, nan_bucket=False)\n",
        "\n",
        "print('PSI: ', psi, '\\n')\n",
        "print('Buckets: ', buckets, '\\n')\n",
        "print('Expected percents in buckets: ', expected_prc, '\\n')\n",
        "print('Actual percents in buckets: ', actual_prc, '\\n')"
      ],
      "metadata": {
        "colab": {
          "base_uri": "https://localhost:8080/"
        },
        "id": "66redurBPmgW",
        "outputId": "a6afbc70-95c3-42b2-9d8b-d31a3aaee5f4"
      },
      "execution_count": 9,
      "outputs": [
        {
          "output_type": "stream",
          "name": "stdout",
          "text": [
            "PSI:  0.0657321129890791 \n",
            "\n",
            "Buckets:  ['True' 'False'] \n",
            "\n",
            "Expected percents in buckets:  [0.55094 0.44906] \n",
            "\n",
            "Actual percents in buckets:  [0.67538824 0.32461176] \n",
            "\n"
          ]
        }
      ]
    },
    {
      "cell_type": "markdown",
      "source": [
        "PSI для всех (или указанных) столбцов в датафрейме"
      ],
      "metadata": {
        "id": "v5E8Nh7pP41g"
      }
    },
    {
      "cell_type": "code",
      "source": [
        "columns = ['car_value', 'salary_range', 'debt_to_income_ratio', 'loan_length', 'repaid_loan_on_prev_car', 'size_of_downpayment', 'driver_tenure', 'repaid']\n",
        "features_psi = get_features_psi(reference, analysis, columns=columns)\n",
        "feature_psi_df = pd.DataFrame(np.column_stack(features_psi), columns=columns, index=[0])\n",
        "display(feature_psi_df)"
      ],
      "metadata": {
        "colab": {
          "base_uri": "https://localhost:8080/",
          "height": 81
        },
        "id": "AgbA6kF41vOF",
        "outputId": "4ed87988-d662-468b-c5b3-7f92710cee19"
      },
      "execution_count": 10,
      "outputs": [
        {
          "output_type": "display_data",
          "data": {
            "text/plain": [
              "             car_value         salary_range debt_to_income_ratio  \\\n",
              "0  0.23185772351705353  0.03189615940796424   1.1210321903793046   \n",
              "\n",
              "           loan_length repaid_loan_on_prev_car    size_of_downpayment  \\\n",
              "0  0.05520377254691115      1.1815308464315968  0.0001368318789760221   \n",
              "\n",
              "            driver_tenure            repaid  \n",
              "0  0.00035966116429024216  Not in actual df  "
            ],
            "text/html": [
              "\n",
              "  <div id=\"df-a7d3f9d3-e9f8-4b13-84cd-53f98f4a0691\">\n",
              "    <div class=\"colab-df-container\">\n",
              "      <div>\n",
              "<style scoped>\n",
              "    .dataframe tbody tr th:only-of-type {\n",
              "        vertical-align: middle;\n",
              "    }\n",
              "\n",
              "    .dataframe tbody tr th {\n",
              "        vertical-align: top;\n",
              "    }\n",
              "\n",
              "    .dataframe thead th {\n",
              "        text-align: right;\n",
              "    }\n",
              "</style>\n",
              "<table border=\"1\" class=\"dataframe\">\n",
              "  <thead>\n",
              "    <tr style=\"text-align: right;\">\n",
              "      <th></th>\n",
              "      <th>car_value</th>\n",
              "      <th>salary_range</th>\n",
              "      <th>debt_to_income_ratio</th>\n",
              "      <th>loan_length</th>\n",
              "      <th>repaid_loan_on_prev_car</th>\n",
              "      <th>size_of_downpayment</th>\n",
              "      <th>driver_tenure</th>\n",
              "      <th>repaid</th>\n",
              "    </tr>\n",
              "  </thead>\n",
              "  <tbody>\n",
              "    <tr>\n",
              "      <th>0</th>\n",
              "      <td>0.23185772351705353</td>\n",
              "      <td>0.03189615940796424</td>\n",
              "      <td>1.1210321903793046</td>\n",
              "      <td>0.05520377254691115</td>\n",
              "      <td>1.1815308464315968</td>\n",
              "      <td>0.0001368318789760221</td>\n",
              "      <td>0.00035966116429024216</td>\n",
              "      <td>Not in actual df</td>\n",
              "    </tr>\n",
              "  </tbody>\n",
              "</table>\n",
              "</div>\n",
              "      <button class=\"colab-df-convert\" onclick=\"convertToInteractive('df-a7d3f9d3-e9f8-4b13-84cd-53f98f4a0691')\"\n",
              "              title=\"Convert this dataframe to an interactive table.\"\n",
              "              style=\"display:none;\">\n",
              "        \n",
              "  <svg xmlns=\"http://www.w3.org/2000/svg\" height=\"24px\"viewBox=\"0 0 24 24\"\n",
              "       width=\"24px\">\n",
              "    <path d=\"M0 0h24v24H0V0z\" fill=\"none\"/>\n",
              "    <path d=\"M18.56 5.44l.94 2.06.94-2.06 2.06-.94-2.06-.94-.94-2.06-.94 2.06-2.06.94zm-11 1L8.5 8.5l.94-2.06 2.06-.94-2.06-.94L8.5 2.5l-.94 2.06-2.06.94zm10 10l.94 2.06.94-2.06 2.06-.94-2.06-.94-.94-2.06-.94 2.06-2.06.94z\"/><path d=\"M17.41 7.96l-1.37-1.37c-.4-.4-.92-.59-1.43-.59-.52 0-1.04.2-1.43.59L10.3 9.45l-7.72 7.72c-.78.78-.78 2.05 0 2.83L4 21.41c.39.39.9.59 1.41.59.51 0 1.02-.2 1.41-.59l7.78-7.78 2.81-2.81c.8-.78.8-2.07 0-2.86zM5.41 20L4 18.59l7.72-7.72 1.47 1.35L5.41 20z\"/>\n",
              "  </svg>\n",
              "      </button>\n",
              "      \n",
              "  <style>\n",
              "    .colab-df-container {\n",
              "      display:flex;\n",
              "      flex-wrap:wrap;\n",
              "      gap: 12px;\n",
              "    }\n",
              "\n",
              "    .colab-df-convert {\n",
              "      background-color: #E8F0FE;\n",
              "      border: none;\n",
              "      border-radius: 50%;\n",
              "      cursor: pointer;\n",
              "      display: none;\n",
              "      fill: #1967D2;\n",
              "      height: 32px;\n",
              "      padding: 0 0 0 0;\n",
              "      width: 32px;\n",
              "    }\n",
              "\n",
              "    .colab-df-convert:hover {\n",
              "      background-color: #E2EBFA;\n",
              "      box-shadow: 0px 1px 2px rgba(60, 64, 67, 0.3), 0px 1px 3px 1px rgba(60, 64, 67, 0.15);\n",
              "      fill: #174EA6;\n",
              "    }\n",
              "\n",
              "    [theme=dark] .colab-df-convert {\n",
              "      background-color: #3B4455;\n",
              "      fill: #D2E3FC;\n",
              "    }\n",
              "\n",
              "    [theme=dark] .colab-df-convert:hover {\n",
              "      background-color: #434B5C;\n",
              "      box-shadow: 0px 1px 3px 1px rgba(0, 0, 0, 0.15);\n",
              "      filter: drop-shadow(0px 1px 2px rgba(0, 0, 0, 0.3));\n",
              "      fill: #FFFFFF;\n",
              "    }\n",
              "  </style>\n",
              "\n",
              "      <script>\n",
              "        const buttonEl =\n",
              "          document.querySelector('#df-a7d3f9d3-e9f8-4b13-84cd-53f98f4a0691 button.colab-df-convert');\n",
              "        buttonEl.style.display =\n",
              "          google.colab.kernel.accessAllowed ? 'block' : 'none';\n",
              "\n",
              "        async function convertToInteractive(key) {\n",
              "          const element = document.querySelector('#df-a7d3f9d3-e9f8-4b13-84cd-53f98f4a0691');\n",
              "          const dataTable =\n",
              "            await google.colab.kernel.invokeFunction('convertToInteractive',\n",
              "                                                     [key], {});\n",
              "          if (!dataTable) return;\n",
              "\n",
              "          const docLinkHtml = 'Like what you see? Visit the ' +\n",
              "            '<a target=\"_blank\" href=https://colab.research.google.com/notebooks/data_table.ipynb>data table notebook</a>'\n",
              "            + ' to learn more about interactive tables.';\n",
              "          element.innerHTML = '';\n",
              "          dataTable['output_type'] = 'display_data';\n",
              "          await google.colab.output.renderOutput(dataTable, element);\n",
              "          const docLink = document.createElement('div');\n",
              "          docLink.innerHTML = docLinkHtml;\n",
              "          element.appendChild(docLink);\n",
              "        }\n",
              "      </script>\n",
              "    </div>\n",
              "  </div>\n",
              "  "
            ]
          },
          "metadata": {}
        }
      ]
    },
    {
      "cell_type": "markdown",
      "source": [
        "Средневзвешенный PSI для весов по умолчанию"
      ],
      "metadata": {
        "id": "J9hd9bsjQNny"
      }
    },
    {
      "cell_type": "code",
      "source": [
        "columns = ['car_value', 'salary_range', 'debt_to_income_ratio', 'loan_length', 'repaid_loan_on_prev_car', 'size_of_downpayment', 'driver_tenure', 'repaid']\n",
        "weighted_psi = get_weighted_psi(reference, analysis, columns=columns, returned=True)\n",
        "print('Weighted PSI: ', weighted_psi[0], '\\nSum of weights: ', weighted_psi[1])"
      ],
      "metadata": {
        "colab": {
          "base_uri": "https://localhost:8080/"
        },
        "id": "fBluvva2-xtx",
        "outputId": "3d6756a4-021e-41fc-ff08-51941b127331"
      },
      "execution_count": 11,
      "outputs": [
        {
          "output_type": "stream",
          "name": "stdout",
          "text": [
            "Weighted PSI:  0.3745738836180138 \n",
            "Sum of weights:  7.0\n"
          ]
        }
      ]
    },
    {
      "cell_type": "markdown",
      "source": [
        "Средневзвешенный PSI для заданных весов"
      ],
      "metadata": {
        "id": "w4yELGKKQS_S"
      }
    },
    {
      "cell_type": "code",
      "source": [
        "weights = np.random.random(len(columns))\n",
        "print('Weights: ', weights)\n",
        "\n",
        "weighted_psi = get_weighted_psi(reference, analysis, columns=columns, weights=weights, returned=True)\n",
        "print('Weighted PSI: ', weighted_psi[0], '\\nSum of weights: ', weighted_psi[1])"
      ],
      "metadata": {
        "colab": {
          "base_uri": "https://localhost:8080/"
        },
        "id": "Xf_Nc2iUMPnj",
        "outputId": "2b515d54-519d-4ccd-a17e-93a27bf9be45"
      },
      "execution_count": 12,
      "outputs": [
        {
          "output_type": "stream",
          "name": "stdout",
          "text": [
            "Weights:  [0.40901498 0.43548808 0.25609914 0.05008591 0.46674084 0.04547872\n",
            " 0.37524393 0.79501583]\n",
            "Weighted PSI:  0.46620372580599323 \n",
            "Sum of weights:  2.038151596019368\n"
          ]
        }
      ]
    },
    {
      "cell_type": "markdown",
      "source": [
        "## Визуализация"
      ],
      "metadata": {
        "id": "VLp51guv7Dvh"
      }
    },
    {
      "cell_type": "code",
      "source": [
        "expected_data = reference.y_pred_proba.copy()\n",
        "actual_data_by_dates = analysis[['timestamp', 'y_pred_proba']].copy()\n",
        "\n",
        "expected_data.columns = ['y']\n",
        "actual_data_by_dates.columns = ['date', 'y']\n",
        "\n",
        "actual_data_by_dates.date = actual_data_by_dates.date.str[:7]\n",
        "\n",
        "n_buckets=15\n",
        "bucket_type='bins'\n",
        "plot=True\n",
        "nan_bucket = False\n",
        "\n",
        "expected_plot = []\n",
        "actual_plot = []\n",
        "\n",
        "psi_by_dates = []\n",
        "\n",
        "\n",
        "\n",
        "# считаем psi для каждого месяца из actual\n",
        "for date in actual_data_by_dates.date.unique():\n",
        "    actual_data = actual_data_by_dates[actual_data_by_dates.date == date].y.copy()\n",
        "\n",
        "    # проценты expected и actual в каждой корзине\n",
        "    bucket_borders, expected_prc, actual_prc = get_buckets(expected_data, actual_data, n_buckets, bucket_type, nan_bucket)\n",
        "    \n",
        "\n",
        "    # сохраняем списки в один плоский список\n",
        "    expected_plot = np.hstack([expected_plot, expected_prc])\n",
        "    actual_plot = np.hstack([actual_plot, actual_prc])\n",
        "\n",
        "    # расчет PSI\n",
        "    psi = get_psi(expected_data, actual_data, n_buckets, bucket_type, nan_bucket)\n",
        "\n",
        "    psi_by_dates.append(psi)\n",
        "\n"
      ],
      "metadata": {
        "id": "SOGUtBEQkk2f"
      },
      "execution_count": 17,
      "outputs": []
    },
    {
      "cell_type": "code",
      "source": [
        "if plot:\n",
        "    bucket_borders_str = [f\"{bucket_borders[i]} - {bucket_borders[i + 1]}\" for i in range(n_buckets)]\n",
        "\n",
        "    date = [date for date in actual_data_by_dates.date.unique() for j in range(n_buckets)]\n",
        "    bucket = [bucket_name for elem in actual_data_by_dates.date.unique() for bucket_name in bucket_borders_str]\n",
        "\n",
        "    freq_df = pd.DataFrame({'Месяц': date, 'Границы бакетов': bucket, 'score_expected': expected_plot, 'score_actual': actual_plot})\n",
        "    df_long = pd.wide_to_long(freq_df, stubnames='score', i=['Месяц', 'Границы бакетов'], j=' ', sep='_', suffix='\\w+').reset_index()\n",
        "\n",
        "    fig = px.bar(df_long, x='Границы бакетов', y = 'score', \n",
        "                 hover_name = \"Месяц\", color=' ', \n",
        "                 animation_frame= 'Месяц', barmode='group',\n",
        "                 range_y=[0, df_long['score'].max()],\n",
        "                title=\"Изменение распределения скора модели говорит об ухудшении/улучшении потока клиентов\")\n",
        "\n",
        "    fig.update_layout(\n",
        "        width=1000, height=500, \n",
        "        template='plotly_white',\n",
        "        legend=dict(x=0,y=1, traceorder='normal', font=dict(size=12,),),\n",
        "    )\n",
        "    fig.show()\n",
        "\n",
        "print('Actual dates: ', actual_data_by_dates.date.unique(), '\\n')\n",
        "print('PSI by date: ', psi_by_dates)"
      ],
      "metadata": {
        "colab": {
          "base_uri": "https://localhost:8080/",
          "height": 586
        },
        "id": "QJCXvCTkU9zz",
        "outputId": "74c32e09-b613-4d29-a9de-0a9a71248942"
      },
      "execution_count": 18,
      "outputs": [
        {
          "output_type": "display_data",
          "data": {
            "text/html": [
              "<html>\n",
              "<head><meta charset=\"utf-8\" /></head>\n",
              "<body>\n",
              "    <div>            <script src=\"https://cdnjs.cloudflare.com/ajax/libs/mathjax/2.7.5/MathJax.js?config=TeX-AMS-MML_SVG\"></script><script type=\"text/javascript\">if (window.MathJax && window.MathJax.Hub && window.MathJax.Hub.Config) {window.MathJax.Hub.Config({SVG: {font: \"STIX-Web\"}});}</script>                <script type=\"text/javascript\">window.PlotlyConfig = {MathJaxConfig: 'local'};</script>\n",
              "        <script src=\"https://cdn.plot.ly/plotly-2.18.2.min.js\"></script>                <div id=\"baf6a4dc-68e3-4573-8329-021040d70933\" class=\"plotly-graph-div\" style=\"height:500px; width:1000px;\"></div>            <script type=\"text/javascript\">                                    window.PLOTLYENV=window.PLOTLYENV || {};                                    if (document.getElementById(\"baf6a4dc-68e3-4573-8329-021040d70933\")) {                    Plotly.newPlot(                        \"baf6a4dc-68e3-4573-8329-021040d70933\",                        [{\"alignmentgroup\":\"True\",\"hovertemplate\":\"<b>%{hovertext}</b><br><br> =expected<br>\\u041c\\u0435\\u0441\\u044f\\u0446=2018-10<br>\\u0413\\u0440\\u0430\\u043d\\u0438\\u0446\\u044b \\u0431\\u0430\\u043a\\u0435\\u0442\\u043e\\u0432=%{x}<br>score=%{y}<extra></extra>\",\"hovertext\":[\"2018-10\",\"2018-10\",\"2018-10\",\"2018-10\",\"2018-10\",\"2018-10\",\"2018-10\",\"2018-10\",\"2018-10\",\"2018-10\",\"2018-10\",\"2018-10\",\"2018-10\",\"2018-10\",\"2018-10\"],\"legendgroup\":\"expected\",\"marker\":{\"color\":\"#636efa\",\"pattern\":{\"shape\":\"\"}},\"name\":\"expected\",\"offsetgroup\":\"expected\",\"orientation\":\"v\",\"showlegend\":true,\"textposition\":\"auto\",\"x\":[\"0.0 - 0.07\",\"0.07 - 0.13\",\"0.13 - 0.2\",\"0.2 - 0.27\",\"0.27 - 0.33\",\"0.33 - 0.4\",\"0.4 - 0.47\",\"0.47 - 0.53\",\"0.53 - 0.6\",\"0.6 - 0.67\",\"0.67 - 0.73\",\"0.73 - 0.8\",\"0.8 - 0.87\",\"0.87 - 0.93\",\"0.93 - 1.0\"],\"xaxis\":\"x\",\"y\":[0.3585,0.07358,0.02172,0.01476,0.00968,0.00784,0.00802,0.00762,0.00638,0.01008,0.01306,0.01504,0.02792,0.07956,0.34624],\"yaxis\":\"y\",\"type\":\"bar\"},{\"alignmentgroup\":\"True\",\"hovertemplate\":\"<b>%{hovertext}</b><br><br> =actual<br>\\u041c\\u0435\\u0441\\u044f\\u0446=2018-10<br>\\u0413\\u0440\\u0430\\u043d\\u0438\\u0446\\u044b \\u0431\\u0430\\u043a\\u0435\\u0442\\u043e\\u0432=%{x}<br>score=%{y}<extra></extra>\",\"hovertext\":[\"2018-10\",\"2018-10\",\"2018-10\",\"2018-10\",\"2018-10\",\"2018-10\",\"2018-10\",\"2018-10\",\"2018-10\",\"2018-10\",\"2018-10\",\"2018-10\",\"2018-10\",\"2018-10\",\"2018-10\"],\"legendgroup\":\"actual\",\"marker\":{\"color\":\"#EF553B\",\"pattern\":{\"shape\":\"\"}},\"name\":\"actual\",\"offsetgroup\":\"actual\",\"orientation\":\"v\",\"showlegend\":true,\"textposition\":\"auto\",\"x\":[\"0.0 - 0.07\",\"0.07 - 0.13\",\"0.13 - 0.2\",\"0.2 - 0.27\",\"0.27 - 0.33\",\"0.33 - 0.4\",\"0.4 - 0.47\",\"0.47 - 0.53\",\"0.53 - 0.6\",\"0.6 - 0.67\",\"0.67 - 0.73\",\"0.73 - 0.8\",\"0.8 - 0.87\",\"0.87 - 0.93\",\"0.93 - 1.0\"],\"xaxis\":\"x\",\"y\":[0.28502415458937197,0.10144927536231885,0.014492753623188406,0.024154589371980676,0.01932367149758454,0.0,0.004830917874396135,0.004830917874396135,0.01932367149758454,0.0,0.004830917874396135,0.00966183574879227,0.024154589371980676,0.08695652173913043,0.40096618357487923],\"yaxis\":\"y\",\"type\":\"bar\"}],                        {\"template\":{\"data\":{\"barpolar\":[{\"marker\":{\"line\":{\"color\":\"white\",\"width\":0.5},\"pattern\":{\"fillmode\":\"overlay\",\"size\":10,\"solidity\":0.2}},\"type\":\"barpolar\"}],\"bar\":[{\"error_x\":{\"color\":\"#2a3f5f\"},\"error_y\":{\"color\":\"#2a3f5f\"},\"marker\":{\"line\":{\"color\":\"white\",\"width\":0.5},\"pattern\":{\"fillmode\":\"overlay\",\"size\":10,\"solidity\":0.2}},\"type\":\"bar\"}],\"carpet\":[{\"aaxis\":{\"endlinecolor\":\"#2a3f5f\",\"gridcolor\":\"#C8D4E3\",\"linecolor\":\"#C8D4E3\",\"minorgridcolor\":\"#C8D4E3\",\"startlinecolor\":\"#2a3f5f\"},\"baxis\":{\"endlinecolor\":\"#2a3f5f\",\"gridcolor\":\"#C8D4E3\",\"linecolor\":\"#C8D4E3\",\"minorgridcolor\":\"#C8D4E3\",\"startlinecolor\":\"#2a3f5f\"},\"type\":\"carpet\"}],\"choropleth\":[{\"colorbar\":{\"outlinewidth\":0,\"ticks\":\"\"},\"type\":\"choropleth\"}],\"contourcarpet\":[{\"colorbar\":{\"outlinewidth\":0,\"ticks\":\"\"},\"type\":\"contourcarpet\"}],\"contour\":[{\"colorbar\":{\"outlinewidth\":0,\"ticks\":\"\"},\"colorscale\":[[0.0,\"#0d0887\"],[0.1111111111111111,\"#46039f\"],[0.2222222222222222,\"#7201a8\"],[0.3333333333333333,\"#9c179e\"],[0.4444444444444444,\"#bd3786\"],[0.5555555555555556,\"#d8576b\"],[0.6666666666666666,\"#ed7953\"],[0.7777777777777778,\"#fb9f3a\"],[0.8888888888888888,\"#fdca26\"],[1.0,\"#f0f921\"]],\"type\":\"contour\"}],\"heatmapgl\":[{\"colorbar\":{\"outlinewidth\":0,\"ticks\":\"\"},\"colorscale\":[[0.0,\"#0d0887\"],[0.1111111111111111,\"#46039f\"],[0.2222222222222222,\"#7201a8\"],[0.3333333333333333,\"#9c179e\"],[0.4444444444444444,\"#bd3786\"],[0.5555555555555556,\"#d8576b\"],[0.6666666666666666,\"#ed7953\"],[0.7777777777777778,\"#fb9f3a\"],[0.8888888888888888,\"#fdca26\"],[1.0,\"#f0f921\"]],\"type\":\"heatmapgl\"}],\"heatmap\":[{\"colorbar\":{\"outlinewidth\":0,\"ticks\":\"\"},\"colorscale\":[[0.0,\"#0d0887\"],[0.1111111111111111,\"#46039f\"],[0.2222222222222222,\"#7201a8\"],[0.3333333333333333,\"#9c179e\"],[0.4444444444444444,\"#bd3786\"],[0.5555555555555556,\"#d8576b\"],[0.6666666666666666,\"#ed7953\"],[0.7777777777777778,\"#fb9f3a\"],[0.8888888888888888,\"#fdca26\"],[1.0,\"#f0f921\"]],\"type\":\"heatmap\"}],\"histogram2dcontour\":[{\"colorbar\":{\"outlinewidth\":0,\"ticks\":\"\"},\"colorscale\":[[0.0,\"#0d0887\"],[0.1111111111111111,\"#46039f\"],[0.2222222222222222,\"#7201a8\"],[0.3333333333333333,\"#9c179e\"],[0.4444444444444444,\"#bd3786\"],[0.5555555555555556,\"#d8576b\"],[0.6666666666666666,\"#ed7953\"],[0.7777777777777778,\"#fb9f3a\"],[0.8888888888888888,\"#fdca26\"],[1.0,\"#f0f921\"]],\"type\":\"histogram2dcontour\"}],\"histogram2d\":[{\"colorbar\":{\"outlinewidth\":0,\"ticks\":\"\"},\"colorscale\":[[0.0,\"#0d0887\"],[0.1111111111111111,\"#46039f\"],[0.2222222222222222,\"#7201a8\"],[0.3333333333333333,\"#9c179e\"],[0.4444444444444444,\"#bd3786\"],[0.5555555555555556,\"#d8576b\"],[0.6666666666666666,\"#ed7953\"],[0.7777777777777778,\"#fb9f3a\"],[0.8888888888888888,\"#fdca26\"],[1.0,\"#f0f921\"]],\"type\":\"histogram2d\"}],\"histogram\":[{\"marker\":{\"pattern\":{\"fillmode\":\"overlay\",\"size\":10,\"solidity\":0.2}},\"type\":\"histogram\"}],\"mesh3d\":[{\"colorbar\":{\"outlinewidth\":0,\"ticks\":\"\"},\"type\":\"mesh3d\"}],\"parcoords\":[{\"line\":{\"colorbar\":{\"outlinewidth\":0,\"ticks\":\"\"}},\"type\":\"parcoords\"}],\"pie\":[{\"automargin\":true,\"type\":\"pie\"}],\"scatter3d\":[{\"line\":{\"colorbar\":{\"outlinewidth\":0,\"ticks\":\"\"}},\"marker\":{\"colorbar\":{\"outlinewidth\":0,\"ticks\":\"\"}},\"type\":\"scatter3d\"}],\"scattercarpet\":[{\"marker\":{\"colorbar\":{\"outlinewidth\":0,\"ticks\":\"\"}},\"type\":\"scattercarpet\"}],\"scattergeo\":[{\"marker\":{\"colorbar\":{\"outlinewidth\":0,\"ticks\":\"\"}},\"type\":\"scattergeo\"}],\"scattergl\":[{\"marker\":{\"colorbar\":{\"outlinewidth\":0,\"ticks\":\"\"}},\"type\":\"scattergl\"}],\"scattermapbox\":[{\"marker\":{\"colorbar\":{\"outlinewidth\":0,\"ticks\":\"\"}},\"type\":\"scattermapbox\"}],\"scatterpolargl\":[{\"marker\":{\"colorbar\":{\"outlinewidth\":0,\"ticks\":\"\"}},\"type\":\"scatterpolargl\"}],\"scatterpolar\":[{\"marker\":{\"colorbar\":{\"outlinewidth\":0,\"ticks\":\"\"}},\"type\":\"scatterpolar\"}],\"scatter\":[{\"fillpattern\":{\"fillmode\":\"overlay\",\"size\":10,\"solidity\":0.2},\"type\":\"scatter\"}],\"scatterternary\":[{\"marker\":{\"colorbar\":{\"outlinewidth\":0,\"ticks\":\"\"}},\"type\":\"scatterternary\"}],\"surface\":[{\"colorbar\":{\"outlinewidth\":0,\"ticks\":\"\"},\"colorscale\":[[0.0,\"#0d0887\"],[0.1111111111111111,\"#46039f\"],[0.2222222222222222,\"#7201a8\"],[0.3333333333333333,\"#9c179e\"],[0.4444444444444444,\"#bd3786\"],[0.5555555555555556,\"#d8576b\"],[0.6666666666666666,\"#ed7953\"],[0.7777777777777778,\"#fb9f3a\"],[0.8888888888888888,\"#fdca26\"],[1.0,\"#f0f921\"]],\"type\":\"surface\"}],\"table\":[{\"cells\":{\"fill\":{\"color\":\"#EBF0F8\"},\"line\":{\"color\":\"white\"}},\"header\":{\"fill\":{\"color\":\"#C8D4E3\"},\"line\":{\"color\":\"white\"}},\"type\":\"table\"}]},\"layout\":{\"annotationdefaults\":{\"arrowcolor\":\"#2a3f5f\",\"arrowhead\":0,\"arrowwidth\":1},\"autotypenumbers\":\"strict\",\"coloraxis\":{\"colorbar\":{\"outlinewidth\":0,\"ticks\":\"\"}},\"colorscale\":{\"diverging\":[[0,\"#8e0152\"],[0.1,\"#c51b7d\"],[0.2,\"#de77ae\"],[0.3,\"#f1b6da\"],[0.4,\"#fde0ef\"],[0.5,\"#f7f7f7\"],[0.6,\"#e6f5d0\"],[0.7,\"#b8e186\"],[0.8,\"#7fbc41\"],[0.9,\"#4d9221\"],[1,\"#276419\"]],\"sequential\":[[0.0,\"#0d0887\"],[0.1111111111111111,\"#46039f\"],[0.2222222222222222,\"#7201a8\"],[0.3333333333333333,\"#9c179e\"],[0.4444444444444444,\"#bd3786\"],[0.5555555555555556,\"#d8576b\"],[0.6666666666666666,\"#ed7953\"],[0.7777777777777778,\"#fb9f3a\"],[0.8888888888888888,\"#fdca26\"],[1.0,\"#f0f921\"]],\"sequentialminus\":[[0.0,\"#0d0887\"],[0.1111111111111111,\"#46039f\"],[0.2222222222222222,\"#7201a8\"],[0.3333333333333333,\"#9c179e\"],[0.4444444444444444,\"#bd3786\"],[0.5555555555555556,\"#d8576b\"],[0.6666666666666666,\"#ed7953\"],[0.7777777777777778,\"#fb9f3a\"],[0.8888888888888888,\"#fdca26\"],[1.0,\"#f0f921\"]]},\"colorway\":[\"#636efa\",\"#EF553B\",\"#00cc96\",\"#ab63fa\",\"#FFA15A\",\"#19d3f3\",\"#FF6692\",\"#B6E880\",\"#FF97FF\",\"#FECB52\"],\"font\":{\"color\":\"#2a3f5f\"},\"geo\":{\"bgcolor\":\"white\",\"lakecolor\":\"white\",\"landcolor\":\"white\",\"showlakes\":true,\"showland\":true,\"subunitcolor\":\"#C8D4E3\"},\"hoverlabel\":{\"align\":\"left\"},\"hovermode\":\"closest\",\"mapbox\":{\"style\":\"light\"},\"paper_bgcolor\":\"white\",\"plot_bgcolor\":\"white\",\"polar\":{\"angularaxis\":{\"gridcolor\":\"#EBF0F8\",\"linecolor\":\"#EBF0F8\",\"ticks\":\"\"},\"bgcolor\":\"white\",\"radialaxis\":{\"gridcolor\":\"#EBF0F8\",\"linecolor\":\"#EBF0F8\",\"ticks\":\"\"}},\"scene\":{\"xaxis\":{\"backgroundcolor\":\"white\",\"gridcolor\":\"#DFE8F3\",\"gridwidth\":2,\"linecolor\":\"#EBF0F8\",\"showbackground\":true,\"ticks\":\"\",\"zerolinecolor\":\"#EBF0F8\"},\"yaxis\":{\"backgroundcolor\":\"white\",\"gridcolor\":\"#DFE8F3\",\"gridwidth\":2,\"linecolor\":\"#EBF0F8\",\"showbackground\":true,\"ticks\":\"\",\"zerolinecolor\":\"#EBF0F8\"},\"zaxis\":{\"backgroundcolor\":\"white\",\"gridcolor\":\"#DFE8F3\",\"gridwidth\":2,\"linecolor\":\"#EBF0F8\",\"showbackground\":true,\"ticks\":\"\",\"zerolinecolor\":\"#EBF0F8\"}},\"shapedefaults\":{\"line\":{\"color\":\"#2a3f5f\"}},\"ternary\":{\"aaxis\":{\"gridcolor\":\"#DFE8F3\",\"linecolor\":\"#A2B1C6\",\"ticks\":\"\"},\"baxis\":{\"gridcolor\":\"#DFE8F3\",\"linecolor\":\"#A2B1C6\",\"ticks\":\"\"},\"bgcolor\":\"white\",\"caxis\":{\"gridcolor\":\"#DFE8F3\",\"linecolor\":\"#A2B1C6\",\"ticks\":\"\"}},\"title\":{\"x\":0.05},\"xaxis\":{\"automargin\":true,\"gridcolor\":\"#EBF0F8\",\"linecolor\":\"#EBF0F8\",\"ticks\":\"\",\"title\":{\"standoff\":15},\"zerolinecolor\":\"#EBF0F8\",\"zerolinewidth\":2},\"yaxis\":{\"automargin\":true,\"gridcolor\":\"#EBF0F8\",\"linecolor\":\"#EBF0F8\",\"ticks\":\"\",\"title\":{\"standoff\":15},\"zerolinecolor\":\"#EBF0F8\",\"zerolinewidth\":2}}},\"xaxis\":{\"anchor\":\"y\",\"domain\":[0.0,1.0],\"title\":{\"text\":\"\\u0413\\u0440\\u0430\\u043d\\u0438\\u0446\\u044b \\u0431\\u0430\\u043a\\u0435\\u0442\\u043e\\u0432\"}},\"yaxis\":{\"anchor\":\"x\",\"domain\":[0.0,1.0],\"title\":{\"text\":\"score\"},\"range\":[0,0.40096618357487923]},\"legend\":{\"title\":{\"text\":\" \"},\"tracegroupgap\":0,\"font\":{\"size\":12},\"x\":0,\"y\":1,\"traceorder\":\"normal\"},\"title\":{\"text\":\"\\u0418\\u0437\\u043c\\u0435\\u043d\\u0435\\u043d\\u0438\\u0435 \\u0440\\u0430\\u0441\\u043f\\u0440\\u0435\\u0434\\u0435\\u043b\\u0435\\u043d\\u0438\\u044f \\u0441\\u043a\\u043e\\u0440\\u0430 \\u043c\\u043e\\u0434\\u0435\\u043b\\u0438 \\u0433\\u043e\\u0432\\u043e\\u0440\\u0438\\u0442 \\u043e\\u0431 \\u0443\\u0445\\u0443\\u0434\\u0448\\u0435\\u043d\\u0438\\u0438/\\u0443\\u043b\\u0443\\u0447\\u0448\\u0435\\u043d\\u0438\\u0438 \\u043f\\u043e\\u0442\\u043e\\u043a\\u0430 \\u043a\\u043b\\u0438\\u0435\\u043d\\u0442\\u043e\\u0432\"},\"barmode\":\"group\",\"updatemenus\":[{\"buttons\":[{\"args\":[null,{\"frame\":{\"duration\":500,\"redraw\":true},\"mode\":\"immediate\",\"fromcurrent\":true,\"transition\":{\"duration\":500,\"easing\":\"linear\"}}],\"label\":\"&#9654;\",\"method\":\"animate\"},{\"args\":[[null],{\"frame\":{\"duration\":0,\"redraw\":true},\"mode\":\"immediate\",\"fromcurrent\":true,\"transition\":{\"duration\":0,\"easing\":\"linear\"}}],\"label\":\"&#9724;\",\"method\":\"animate\"}],\"direction\":\"left\",\"pad\":{\"r\":10,\"t\":70},\"showactive\":false,\"type\":\"buttons\",\"x\":0.1,\"xanchor\":\"right\",\"y\":0,\"yanchor\":\"top\"}],\"sliders\":[{\"active\":0,\"currentvalue\":{\"prefix\":\"\\u041c\\u0435\\u0441\\u044f\\u0446=\"},\"len\":0.9,\"pad\":{\"b\":10,\"t\":60},\"steps\":[{\"args\":[[\"2018-10\"],{\"frame\":{\"duration\":0,\"redraw\":true},\"mode\":\"immediate\",\"fromcurrent\":true,\"transition\":{\"duration\":0,\"easing\":\"linear\"}}],\"label\":\"2018-10\",\"method\":\"animate\"},{\"args\":[[\"2018-11\"],{\"frame\":{\"duration\":0,\"redraw\":true},\"mode\":\"immediate\",\"fromcurrent\":true,\"transition\":{\"duration\":0,\"easing\":\"linear\"}}],\"label\":\"2018-11\",\"method\":\"animate\"},{\"args\":[[\"2018-12\"],{\"frame\":{\"duration\":0,\"redraw\":true},\"mode\":\"immediate\",\"fromcurrent\":true,\"transition\":{\"duration\":0,\"easing\":\"linear\"}}],\"label\":\"2018-12\",\"method\":\"animate\"},{\"args\":[[\"2019-01\"],{\"frame\":{\"duration\":0,\"redraw\":true},\"mode\":\"immediate\",\"fromcurrent\":true,\"transition\":{\"duration\":0,\"easing\":\"linear\"}}],\"label\":\"2019-01\",\"method\":\"animate\"},{\"args\":[[\"2019-02\"],{\"frame\":{\"duration\":0,\"redraw\":true},\"mode\":\"immediate\",\"fromcurrent\":true,\"transition\":{\"duration\":0,\"easing\":\"linear\"}}],\"label\":\"2019-02\",\"method\":\"animate\"},{\"args\":[[\"2019-03\"],{\"frame\":{\"duration\":0,\"redraw\":true},\"mode\":\"immediate\",\"fromcurrent\":true,\"transition\":{\"duration\":0,\"easing\":\"linear\"}}],\"label\":\"2019-03\",\"method\":\"animate\"},{\"args\":[[\"2019-04\"],{\"frame\":{\"duration\":0,\"redraw\":true},\"mode\":\"immediate\",\"fromcurrent\":true,\"transition\":{\"duration\":0,\"easing\":\"linear\"}}],\"label\":\"2019-04\",\"method\":\"animate\"},{\"args\":[[\"2019-05\"],{\"frame\":{\"duration\":0,\"redraw\":true},\"mode\":\"immediate\",\"fromcurrent\":true,\"transition\":{\"duration\":0,\"easing\":\"linear\"}}],\"label\":\"2019-05\",\"method\":\"animate\"},{\"args\":[[\"2019-06\"],{\"frame\":{\"duration\":0,\"redraw\":true},\"mode\":\"immediate\",\"fromcurrent\":true,\"transition\":{\"duration\":0,\"easing\":\"linear\"}}],\"label\":\"2019-06\",\"method\":\"animate\"},{\"args\":[[\"2019-07\"],{\"frame\":{\"duration\":0,\"redraw\":true},\"mode\":\"immediate\",\"fromcurrent\":true,\"transition\":{\"duration\":0,\"easing\":\"linear\"}}],\"label\":\"2019-07\",\"method\":\"animate\"},{\"args\":[[\"2019-08\"],{\"frame\":{\"duration\":0,\"redraw\":true},\"mode\":\"immediate\",\"fromcurrent\":true,\"transition\":{\"duration\":0,\"easing\":\"linear\"}}],\"label\":\"2019-08\",\"method\":\"animate\"}],\"x\":0.1,\"xanchor\":\"left\",\"y\":0,\"yanchor\":\"top\"}],\"width\":1000,\"height\":500},                        {\"responsive\": true}                    ).then(function(){\n",
              "                            Plotly.addFrames('baf6a4dc-68e3-4573-8329-021040d70933', [{\"data\":[{\"alignmentgroup\":\"True\",\"hovertemplate\":\"<b>%{hovertext}</b><br><br> =expected<br>\\u041c\\u0435\\u0441\\u044f\\u0446=2018-10<br>\\u0413\\u0440\\u0430\\u043d\\u0438\\u0446\\u044b \\u0431\\u0430\\u043a\\u0435\\u0442\\u043e\\u0432=%{x}<br>score=%{y}<extra></extra>\",\"hovertext\":[\"2018-10\",\"2018-10\",\"2018-10\",\"2018-10\",\"2018-10\",\"2018-10\",\"2018-10\",\"2018-10\",\"2018-10\",\"2018-10\",\"2018-10\",\"2018-10\",\"2018-10\",\"2018-10\",\"2018-10\"],\"legendgroup\":\"expected\",\"marker\":{\"color\":\"#636efa\",\"pattern\":{\"shape\":\"\"}},\"name\":\"expected\",\"offsetgroup\":\"expected\",\"orientation\":\"v\",\"showlegend\":true,\"textposition\":\"auto\",\"x\":[\"0.0 - 0.07\",\"0.07 - 0.13\",\"0.13 - 0.2\",\"0.2 - 0.27\",\"0.27 - 0.33\",\"0.33 - 0.4\",\"0.4 - 0.47\",\"0.47 - 0.53\",\"0.53 - 0.6\",\"0.6 - 0.67\",\"0.67 - 0.73\",\"0.73 - 0.8\",\"0.8 - 0.87\",\"0.87 - 0.93\",\"0.93 - 1.0\"],\"xaxis\":\"x\",\"y\":[0.3585,0.07358,0.02172,0.01476,0.00968,0.00784,0.00802,0.00762,0.00638,0.01008,0.01306,0.01504,0.02792,0.07956,0.34624],\"yaxis\":\"y\",\"type\":\"bar\"},{\"alignmentgroup\":\"True\",\"hovertemplate\":\"<b>%{hovertext}</b><br><br> =actual<br>\\u041c\\u0435\\u0441\\u044f\\u0446=2018-10<br>\\u0413\\u0440\\u0430\\u043d\\u0438\\u0446\\u044b \\u0431\\u0430\\u043a\\u0435\\u0442\\u043e\\u0432=%{x}<br>score=%{y}<extra></extra>\",\"hovertext\":[\"2018-10\",\"2018-10\",\"2018-10\",\"2018-10\",\"2018-10\",\"2018-10\",\"2018-10\",\"2018-10\",\"2018-10\",\"2018-10\",\"2018-10\",\"2018-10\",\"2018-10\",\"2018-10\",\"2018-10\"],\"legendgroup\":\"actual\",\"marker\":{\"color\":\"#EF553B\",\"pattern\":{\"shape\":\"\"}},\"name\":\"actual\",\"offsetgroup\":\"actual\",\"orientation\":\"v\",\"showlegend\":true,\"textposition\":\"auto\",\"x\":[\"0.0 - 0.07\",\"0.07 - 0.13\",\"0.13 - 0.2\",\"0.2 - 0.27\",\"0.27 - 0.33\",\"0.33 - 0.4\",\"0.4 - 0.47\",\"0.47 - 0.53\",\"0.53 - 0.6\",\"0.6 - 0.67\",\"0.67 - 0.73\",\"0.73 - 0.8\",\"0.8 - 0.87\",\"0.87 - 0.93\",\"0.93 - 1.0\"],\"xaxis\":\"x\",\"y\":[0.28502415458937197,0.10144927536231885,0.014492753623188406,0.024154589371980676,0.01932367149758454,0.0,0.004830917874396135,0.004830917874396135,0.01932367149758454,0.0,0.004830917874396135,0.00966183574879227,0.024154589371980676,0.08695652173913043,0.40096618357487923],\"yaxis\":\"y\",\"type\":\"bar\"}],\"name\":\"2018-10\"},{\"data\":[{\"alignmentgroup\":\"True\",\"hovertemplate\":\"<b>%{hovertext}</b><br><br> =expected<br>\\u041c\\u0435\\u0441\\u044f\\u0446=2018-11<br>\\u0413\\u0440\\u0430\\u043d\\u0438\\u0446\\u044b \\u0431\\u0430\\u043a\\u0435\\u0442\\u043e\\u0432=%{x}<br>score=%{y}<extra></extra>\",\"hovertext\":[\"2018-11\",\"2018-11\",\"2018-11\",\"2018-11\",\"2018-11\",\"2018-11\",\"2018-11\",\"2018-11\",\"2018-11\",\"2018-11\",\"2018-11\",\"2018-11\",\"2018-11\",\"2018-11\",\"2018-11\"],\"legendgroup\":\"expected\",\"marker\":{\"color\":\"#636efa\",\"pattern\":{\"shape\":\"\"}},\"name\":\"expected\",\"offsetgroup\":\"expected\",\"orientation\":\"v\",\"showlegend\":true,\"textposition\":\"auto\",\"x\":[\"0.0 - 0.07\",\"0.07 - 0.13\",\"0.13 - 0.2\",\"0.2 - 0.27\",\"0.27 - 0.33\",\"0.33 - 0.4\",\"0.4 - 0.47\",\"0.47 - 0.53\",\"0.53 - 0.6\",\"0.6 - 0.67\",\"0.67 - 0.73\",\"0.73 - 0.8\",\"0.8 - 0.87\",\"0.87 - 0.93\",\"0.93 - 1.0\"],\"xaxis\":\"x\",\"y\":[0.3585,0.07358,0.02172,0.01476,0.00968,0.00784,0.00802,0.00762,0.00638,0.01008,0.01306,0.01504,0.02792,0.07956,0.34624],\"yaxis\":\"y\",\"type\":\"bar\"},{\"alignmentgroup\":\"True\",\"hovertemplate\":\"<b>%{hovertext}</b><br><br> =actual<br>\\u041c\\u0435\\u0441\\u044f\\u0446=2018-11<br>\\u0413\\u0440\\u0430\\u043d\\u0438\\u0446\\u044b \\u0431\\u0430\\u043a\\u0435\\u0442\\u043e\\u0432=%{x}<br>score=%{y}<extra></extra>\",\"hovertext\":[\"2018-11\",\"2018-11\",\"2018-11\",\"2018-11\",\"2018-11\",\"2018-11\",\"2018-11\",\"2018-11\",\"2018-11\",\"2018-11\",\"2018-11\",\"2018-11\",\"2018-11\",\"2018-11\",\"2018-11\"],\"legendgroup\":\"actual\",\"marker\":{\"color\":\"#EF553B\",\"pattern\":{\"shape\":\"\"}},\"name\":\"actual\",\"offsetgroup\":\"actual\",\"orientation\":\"v\",\"showlegend\":true,\"textposition\":\"auto\",\"x\":[\"0.0 - 0.07\",\"0.07 - 0.13\",\"0.13 - 0.2\",\"0.2 - 0.27\",\"0.27 - 0.33\",\"0.33 - 0.4\",\"0.4 - 0.47\",\"0.47 - 0.53\",\"0.53 - 0.6\",\"0.6 - 0.67\",\"0.67 - 0.73\",\"0.73 - 0.8\",\"0.8 - 0.87\",\"0.87 - 0.93\",\"0.93 - 1.0\"],\"xaxis\":\"x\",\"y\":[0.3453077699293643,0.06962663975782038,0.02119071644803229,0.01170534813319879,0.01029263370332997,0.00887991927346115,0.009283551967709384,0.007669021190716448,0.008274470232088799,0.009485368314833502,0.013723511604439959,0.017154389505549948,0.02805247225025227,0.08335015136226034,0.3560040363269425],\"yaxis\":\"y\",\"type\":\"bar\"}],\"name\":\"2018-11\"},{\"data\":[{\"alignmentgroup\":\"True\",\"hovertemplate\":\"<b>%{hovertext}</b><br><br> =expected<br>\\u041c\\u0435\\u0441\\u044f\\u0446=2018-12<br>\\u0413\\u0440\\u0430\\u043d\\u0438\\u0446\\u044b \\u0431\\u0430\\u043a\\u0435\\u0442\\u043e\\u0432=%{x}<br>score=%{y}<extra></extra>\",\"hovertext\":[\"2018-12\",\"2018-12\",\"2018-12\",\"2018-12\",\"2018-12\",\"2018-12\",\"2018-12\",\"2018-12\",\"2018-12\",\"2018-12\",\"2018-12\",\"2018-12\",\"2018-12\",\"2018-12\",\"2018-12\"],\"legendgroup\":\"expected\",\"marker\":{\"color\":\"#636efa\",\"pattern\":{\"shape\":\"\"}},\"name\":\"expected\",\"offsetgroup\":\"expected\",\"orientation\":\"v\",\"showlegend\":true,\"textposition\":\"auto\",\"x\":[\"0.0 - 0.07\",\"0.07 - 0.13\",\"0.13 - 0.2\",\"0.2 - 0.27\",\"0.27 - 0.33\",\"0.33 - 0.4\",\"0.4 - 0.47\",\"0.47 - 0.53\",\"0.53 - 0.6\",\"0.6 - 0.67\",\"0.67 - 0.73\",\"0.73 - 0.8\",\"0.8 - 0.87\",\"0.87 - 0.93\",\"0.93 - 1.0\"],\"xaxis\":\"x\",\"y\":[0.3585,0.07358,0.02172,0.01476,0.00968,0.00784,0.00802,0.00762,0.00638,0.01008,0.01306,0.01504,0.02792,0.07956,0.34624],\"yaxis\":\"y\",\"type\":\"bar\"},{\"alignmentgroup\":\"True\",\"hovertemplate\":\"<b>%{hovertext}</b><br><br> =actual<br>\\u041c\\u0435\\u0441\\u044f\\u0446=2018-12<br>\\u0413\\u0440\\u0430\\u043d\\u0438\\u0446\\u044b \\u0431\\u0430\\u043a\\u0435\\u0442\\u043e\\u0432=%{x}<br>score=%{y}<extra></extra>\",\"hovertext\":[\"2018-12\",\"2018-12\",\"2018-12\",\"2018-12\",\"2018-12\",\"2018-12\",\"2018-12\",\"2018-12\",\"2018-12\",\"2018-12\",\"2018-12\",\"2018-12\",\"2018-12\",\"2018-12\",\"2018-12\"],\"legendgroup\":\"actual\",\"marker\":{\"color\":\"#EF553B\",\"pattern\":{\"shape\":\"\"}},\"name\":\"actual\",\"offsetgroup\":\"actual\",\"orientation\":\"v\",\"showlegend\":true,\"textposition\":\"auto\",\"x\":[\"0.0 - 0.07\",\"0.07 - 0.13\",\"0.13 - 0.2\",\"0.2 - 0.27\",\"0.27 - 0.33\",\"0.33 - 0.4\",\"0.4 - 0.47\",\"0.47 - 0.53\",\"0.53 - 0.6\",\"0.6 - 0.67\",\"0.67 - 0.73\",\"0.73 - 0.8\",\"0.8 - 0.87\",\"0.87 - 0.93\",\"0.93 - 1.0\"],\"xaxis\":\"x\",\"y\":[0.36491502246532526,0.071107638210588,0.02090252002344208,0.017190857589372926,0.010744285993358077,0.008595428794686463,0.008595428794686463,0.007032623559288923,0.007227974213713616,0.010158234030084002,0.01093963664778277,0.012893143192029694,0.03164680601680016,0.08048446962297323,0.33756593084586833],\"yaxis\":\"y\",\"type\":\"bar\"}],\"name\":\"2018-12\"},{\"data\":[{\"alignmentgroup\":\"True\",\"hovertemplate\":\"<b>%{hovertext}</b><br><br> =expected<br>\\u041c\\u0435\\u0441\\u044f\\u0446=2019-01<br>\\u0413\\u0440\\u0430\\u043d\\u0438\\u0446\\u044b \\u0431\\u0430\\u043a\\u0435\\u0442\\u043e\\u0432=%{x}<br>score=%{y}<extra></extra>\",\"hovertext\":[\"2019-01\",\"2019-01\",\"2019-01\",\"2019-01\",\"2019-01\",\"2019-01\",\"2019-01\",\"2019-01\",\"2019-01\",\"2019-01\",\"2019-01\",\"2019-01\",\"2019-01\",\"2019-01\",\"2019-01\"],\"legendgroup\":\"expected\",\"marker\":{\"color\":\"#636efa\",\"pattern\":{\"shape\":\"\"}},\"name\":\"expected\",\"offsetgroup\":\"expected\",\"orientation\":\"v\",\"showlegend\":true,\"textposition\":\"auto\",\"x\":[\"0.0 - 0.07\",\"0.07 - 0.13\",\"0.13 - 0.2\",\"0.2 - 0.27\",\"0.27 - 0.33\",\"0.33 - 0.4\",\"0.4 - 0.47\",\"0.47 - 0.53\",\"0.53 - 0.6\",\"0.6 - 0.67\",\"0.67 - 0.73\",\"0.73 - 0.8\",\"0.8 - 0.87\",\"0.87 - 0.93\",\"0.93 - 1.0\"],\"xaxis\":\"x\",\"y\":[0.3585,0.07358,0.02172,0.01476,0.00968,0.00784,0.00802,0.00762,0.00638,0.01008,0.01306,0.01504,0.02792,0.07956,0.34624],\"yaxis\":\"y\",\"type\":\"bar\"},{\"alignmentgroup\":\"True\",\"hovertemplate\":\"<b>%{hovertext}</b><br><br> =actual<br>\\u041c\\u0435\\u0441\\u044f\\u0446=2019-01<br>\\u0413\\u0440\\u0430\\u043d\\u0438\\u0446\\u044b \\u0431\\u0430\\u043a\\u0435\\u0442\\u043e\\u0432=%{x}<br>score=%{y}<extra></extra>\",\"hovertext\":[\"2019-01\",\"2019-01\",\"2019-01\",\"2019-01\",\"2019-01\",\"2019-01\",\"2019-01\",\"2019-01\",\"2019-01\",\"2019-01\",\"2019-01\",\"2019-01\",\"2019-01\",\"2019-01\",\"2019-01\"],\"legendgroup\":\"actual\",\"marker\":{\"color\":\"#EF553B\",\"pattern\":{\"shape\":\"\"}},\"name\":\"actual\",\"offsetgroup\":\"actual\",\"orientation\":\"v\",\"showlegend\":true,\"textposition\":\"auto\",\"x\":[\"0.0 - 0.07\",\"0.07 - 0.13\",\"0.13 - 0.2\",\"0.2 - 0.27\",\"0.27 - 0.33\",\"0.33 - 0.4\",\"0.4 - 0.47\",\"0.47 - 0.53\",\"0.53 - 0.6\",\"0.6 - 0.67\",\"0.67 - 0.73\",\"0.73 - 0.8\",\"0.8 - 0.87\",\"0.87 - 0.93\",\"0.93 - 1.0\"],\"xaxis\":\"x\",\"y\":[0.3693359375,0.0728515625,0.019921875,0.0177734375,0.0099609375,0.0068359375,0.00703125,0.00703125,0.0064453125,0.008203125,0.0109375,0.016796875,0.023828125,0.0794921875,0.3435546875],\"yaxis\":\"y\",\"type\":\"bar\"}],\"name\":\"2019-01\"},{\"data\":[{\"alignmentgroup\":\"True\",\"hovertemplate\":\"<b>%{hovertext}</b><br><br> =expected<br>\\u041c\\u0435\\u0441\\u044f\\u0446=2019-02<br>\\u0413\\u0440\\u0430\\u043d\\u0438\\u0446\\u044b \\u0431\\u0430\\u043a\\u0435\\u0442\\u043e\\u0432=%{x}<br>score=%{y}<extra></extra>\",\"hovertext\":[\"2019-02\",\"2019-02\",\"2019-02\",\"2019-02\",\"2019-02\",\"2019-02\",\"2019-02\",\"2019-02\",\"2019-02\",\"2019-02\",\"2019-02\",\"2019-02\",\"2019-02\",\"2019-02\",\"2019-02\"],\"legendgroup\":\"expected\",\"marker\":{\"color\":\"#636efa\",\"pattern\":{\"shape\":\"\"}},\"name\":\"expected\",\"offsetgroup\":\"expected\",\"orientation\":\"v\",\"showlegend\":true,\"textposition\":\"auto\",\"x\":[\"0.0 - 0.07\",\"0.07 - 0.13\",\"0.13 - 0.2\",\"0.2 - 0.27\",\"0.27 - 0.33\",\"0.33 - 0.4\",\"0.4 - 0.47\",\"0.47 - 0.53\",\"0.53 - 0.6\",\"0.6 - 0.67\",\"0.67 - 0.73\",\"0.73 - 0.8\",\"0.8 - 0.87\",\"0.87 - 0.93\",\"0.93 - 1.0\"],\"xaxis\":\"x\",\"y\":[0.3585,0.07358,0.02172,0.01476,0.00968,0.00784,0.00802,0.00762,0.00638,0.01008,0.01306,0.01504,0.02792,0.07956,0.34624],\"yaxis\":\"y\",\"type\":\"bar\"},{\"alignmentgroup\":\"True\",\"hovertemplate\":\"<b>%{hovertext}</b><br><br> =actual<br>\\u041c\\u0435\\u0441\\u044f\\u0446=2019-02<br>\\u0413\\u0440\\u0430\\u043d\\u0438\\u0446\\u044b \\u0431\\u0430\\u043a\\u0435\\u0442\\u043e\\u0432=%{x}<br>score=%{y}<extra></extra>\",\"hovertext\":[\"2019-02\",\"2019-02\",\"2019-02\",\"2019-02\",\"2019-02\",\"2019-02\",\"2019-02\",\"2019-02\",\"2019-02\",\"2019-02\",\"2019-02\",\"2019-02\",\"2019-02\",\"2019-02\",\"2019-02\"],\"legendgroup\":\"actual\",\"marker\":{\"color\":\"#EF553B\",\"pattern\":{\"shape\":\"\"}},\"name\":\"actual\",\"offsetgroup\":\"actual\",\"orientation\":\"v\",\"showlegend\":true,\"textposition\":\"auto\",\"x\":[\"0.0 - 0.07\",\"0.07 - 0.13\",\"0.13 - 0.2\",\"0.2 - 0.27\",\"0.27 - 0.33\",\"0.33 - 0.4\",\"0.4 - 0.47\",\"0.47 - 0.53\",\"0.53 - 0.6\",\"0.6 - 0.67\",\"0.67 - 0.73\",\"0.73 - 0.8\",\"0.8 - 0.87\",\"0.87 - 0.93\",\"0.93 - 1.0\"],\"xaxis\":\"x\",\"y\":[0.3620242214532872,0.07396193771626297,0.023356401384083045,0.017517301038062285,0.012543252595155709,0.008001730103806228,0.0067041522491349485,0.0067041522491349485,0.005622837370242215,0.010596885813148788,0.012326989619377162,0.01578719723183391,0.025735294117647058,0.07244809688581315,0.3466695501730104],\"yaxis\":\"y\",\"type\":\"bar\"}],\"name\":\"2019-02\"},{\"data\":[{\"alignmentgroup\":\"True\",\"hovertemplate\":\"<b>%{hovertext}</b><br><br> =expected<br>\\u041c\\u0435\\u0441\\u044f\\u0446=2019-03<br>\\u0413\\u0440\\u0430\\u043d\\u0438\\u0446\\u044b \\u0431\\u0430\\u043a\\u0435\\u0442\\u043e\\u0432=%{x}<br>score=%{y}<extra></extra>\",\"hovertext\":[\"2019-03\",\"2019-03\",\"2019-03\",\"2019-03\",\"2019-03\",\"2019-03\",\"2019-03\",\"2019-03\",\"2019-03\",\"2019-03\",\"2019-03\",\"2019-03\",\"2019-03\",\"2019-03\",\"2019-03\"],\"legendgroup\":\"expected\",\"marker\":{\"color\":\"#636efa\",\"pattern\":{\"shape\":\"\"}},\"name\":\"expected\",\"offsetgroup\":\"expected\",\"orientation\":\"v\",\"showlegend\":true,\"textposition\":\"auto\",\"x\":[\"0.0 - 0.07\",\"0.07 - 0.13\",\"0.13 - 0.2\",\"0.2 - 0.27\",\"0.27 - 0.33\",\"0.33 - 0.4\",\"0.4 - 0.47\",\"0.47 - 0.53\",\"0.53 - 0.6\",\"0.6 - 0.67\",\"0.67 - 0.73\",\"0.73 - 0.8\",\"0.8 - 0.87\",\"0.87 - 0.93\",\"0.93 - 1.0\"],\"xaxis\":\"x\",\"y\":[0.3585,0.07358,0.02172,0.01476,0.00968,0.00784,0.00802,0.00762,0.00638,0.01008,0.01306,0.01504,0.02792,0.07956,0.34624],\"yaxis\":\"y\",\"type\":\"bar\"},{\"alignmentgroup\":\"True\",\"hovertemplate\":\"<b>%{hovertext}</b><br><br> =actual<br>\\u041c\\u0435\\u0441\\u044f\\u0446=2019-03<br>\\u0413\\u0440\\u0430\\u043d\\u0438\\u0446\\u044b \\u0431\\u0430\\u043a\\u0435\\u0442\\u043e\\u0432=%{x}<br>score=%{y}<extra></extra>\",\"hovertext\":[\"2019-03\",\"2019-03\",\"2019-03\",\"2019-03\",\"2019-03\",\"2019-03\",\"2019-03\",\"2019-03\",\"2019-03\",\"2019-03\",\"2019-03\",\"2019-03\",\"2019-03\",\"2019-03\",\"2019-03\"],\"legendgroup\":\"actual\",\"marker\":{\"color\":\"#EF553B\",\"pattern\":{\"shape\":\"\"}},\"name\":\"actual\",\"offsetgroup\":\"actual\",\"orientation\":\"v\",\"showlegend\":true,\"textposition\":\"auto\",\"x\":[\"0.0 - 0.07\",\"0.07 - 0.13\",\"0.13 - 0.2\",\"0.2 - 0.27\",\"0.27 - 0.33\",\"0.33 - 0.4\",\"0.4 - 0.47\",\"0.47 - 0.53\",\"0.53 - 0.6\",\"0.6 - 0.67\",\"0.67 - 0.73\",\"0.73 - 0.8\",\"0.8 - 0.87\",\"0.87 - 0.93\",\"0.93 - 1.0\"],\"xaxis\":\"x\",\"y\":[0.3439453125,0.078515625,0.0263671875,0.016015625,0.0103515625,0.00859375,0.008203125,0.00625,0.0078125,0.009375,0.0126953125,0.01328125,0.027734375,0.0796875,0.351171875],\"yaxis\":\"y\",\"type\":\"bar\"}],\"name\":\"2019-03\"},{\"data\":[{\"alignmentgroup\":\"True\",\"hovertemplate\":\"<b>%{hovertext}</b><br><br> =expected<br>\\u041c\\u0435\\u0441\\u044f\\u0446=2019-04<br>\\u0413\\u0440\\u0430\\u043d\\u0438\\u0446\\u044b \\u0431\\u0430\\u043a\\u0435\\u0442\\u043e\\u0432=%{x}<br>score=%{y}<extra></extra>\",\"hovertext\":[\"2019-04\",\"2019-04\",\"2019-04\",\"2019-04\",\"2019-04\",\"2019-04\",\"2019-04\",\"2019-04\",\"2019-04\",\"2019-04\",\"2019-04\",\"2019-04\",\"2019-04\",\"2019-04\",\"2019-04\"],\"legendgroup\":\"expected\",\"marker\":{\"color\":\"#636efa\",\"pattern\":{\"shape\":\"\"}},\"name\":\"expected\",\"offsetgroup\":\"expected\",\"orientation\":\"v\",\"showlegend\":true,\"textposition\":\"auto\",\"x\":[\"0.0 - 0.07\",\"0.07 - 0.13\",\"0.13 - 0.2\",\"0.2 - 0.27\",\"0.27 - 0.33\",\"0.33 - 0.4\",\"0.4 - 0.47\",\"0.47 - 0.53\",\"0.53 - 0.6\",\"0.6 - 0.67\",\"0.67 - 0.73\",\"0.73 - 0.8\",\"0.8 - 0.87\",\"0.87 - 0.93\",\"0.93 - 1.0\"],\"xaxis\":\"x\",\"y\":[0.3585,0.07358,0.02172,0.01476,0.00968,0.00784,0.00802,0.00762,0.00638,0.01008,0.01306,0.01504,0.02792,0.07956,0.34624],\"yaxis\":\"y\",\"type\":\"bar\"},{\"alignmentgroup\":\"True\",\"hovertemplate\":\"<b>%{hovertext}</b><br><br> =actual<br>\\u041c\\u0435\\u0441\\u044f\\u0446=2019-04<br>\\u0413\\u0440\\u0430\\u043d\\u0438\\u0446\\u044b \\u0431\\u0430\\u043a\\u0435\\u0442\\u043e\\u0432=%{x}<br>score=%{y}<extra></extra>\",\"hovertext\":[\"2019-04\",\"2019-04\",\"2019-04\",\"2019-04\",\"2019-04\",\"2019-04\",\"2019-04\",\"2019-04\",\"2019-04\",\"2019-04\",\"2019-04\",\"2019-04\",\"2019-04\",\"2019-04\",\"2019-04\"],\"legendgroup\":\"actual\",\"marker\":{\"color\":\"#EF553B\",\"pattern\":{\"shape\":\"\"}},\"name\":\"actual\",\"offsetgroup\":\"actual\",\"orientation\":\"v\",\"showlegend\":true,\"textposition\":\"auto\",\"x\":[\"0.0 - 0.07\",\"0.07 - 0.13\",\"0.13 - 0.2\",\"0.2 - 0.27\",\"0.27 - 0.33\",\"0.33 - 0.4\",\"0.4 - 0.47\",\"0.47 - 0.53\",\"0.53 - 0.6\",\"0.6 - 0.67\",\"0.67 - 0.73\",\"0.73 - 0.8\",\"0.8 - 0.87\",\"0.87 - 0.93\",\"0.93 - 1.0\"],\"xaxis\":\"x\",\"y\":[0.2308779011099899,0.09202825428859737,0.04702320887991927,0.03693239152371342,0.022199798183652877,0.018768920282542886,0.016750756811301715,0.016145307769929364,0.013118062563067608,0.019979818365287588,0.026437941473259334,0.03188698284561049,0.06357214934409687,0.13319878910191726,0.23107971745711403],\"yaxis\":\"y\",\"type\":\"bar\"}],\"name\":\"2019-04\"},{\"data\":[{\"alignmentgroup\":\"True\",\"hovertemplate\":\"<b>%{hovertext}</b><br><br> =expected<br>\\u041c\\u0435\\u0441\\u044f\\u0446=2019-05<br>\\u0413\\u0440\\u0430\\u043d\\u0438\\u0446\\u044b \\u0431\\u0430\\u043a\\u0435\\u0442\\u043e\\u0432=%{x}<br>score=%{y}<extra></extra>\",\"hovertext\":[\"2019-05\",\"2019-05\",\"2019-05\",\"2019-05\",\"2019-05\",\"2019-05\",\"2019-05\",\"2019-05\",\"2019-05\",\"2019-05\",\"2019-05\",\"2019-05\",\"2019-05\",\"2019-05\",\"2019-05\"],\"legendgroup\":\"expected\",\"marker\":{\"color\":\"#636efa\",\"pattern\":{\"shape\":\"\"}},\"name\":\"expected\",\"offsetgroup\":\"expected\",\"orientation\":\"v\",\"showlegend\":true,\"textposition\":\"auto\",\"x\":[\"0.0 - 0.07\",\"0.07 - 0.13\",\"0.13 - 0.2\",\"0.2 - 0.27\",\"0.27 - 0.33\",\"0.33 - 0.4\",\"0.4 - 0.47\",\"0.47 - 0.53\",\"0.53 - 0.6\",\"0.6 - 0.67\",\"0.67 - 0.73\",\"0.73 - 0.8\",\"0.8 - 0.87\",\"0.87 - 0.93\",\"0.93 - 1.0\"],\"xaxis\":\"x\",\"y\":[0.3585,0.07358,0.02172,0.01476,0.00968,0.00784,0.00802,0.00762,0.00638,0.01008,0.01306,0.01504,0.02792,0.07956,0.34624],\"yaxis\":\"y\",\"type\":\"bar\"},{\"alignmentgroup\":\"True\",\"hovertemplate\":\"<b>%{hovertext}</b><br><br> =actual<br>\\u041c\\u0435\\u0441\\u044f\\u0446=2019-05<br>\\u0413\\u0440\\u0430\\u043d\\u0438\\u0446\\u044b \\u0431\\u0430\\u043a\\u0435\\u0442\\u043e\\u0432=%{x}<br>score=%{y}<extra></extra>\",\"hovertext\":[\"2019-05\",\"2019-05\",\"2019-05\",\"2019-05\",\"2019-05\",\"2019-05\",\"2019-05\",\"2019-05\",\"2019-05\",\"2019-05\",\"2019-05\",\"2019-05\",\"2019-05\",\"2019-05\",\"2019-05\"],\"legendgroup\":\"actual\",\"marker\":{\"color\":\"#EF553B\",\"pattern\":{\"shape\":\"\"}},\"name\":\"actual\",\"offsetgroup\":\"actual\",\"orientation\":\"v\",\"showlegend\":true,\"textposition\":\"auto\",\"x\":[\"0.0 - 0.07\",\"0.07 - 0.13\",\"0.13 - 0.2\",\"0.2 - 0.27\",\"0.27 - 0.33\",\"0.33 - 0.4\",\"0.4 - 0.47\",\"0.47 - 0.53\",\"0.53 - 0.6\",\"0.6 - 0.67\",\"0.67 - 0.73\",\"0.73 - 0.8\",\"0.8 - 0.87\",\"0.87 - 0.93\",\"0.93 - 1.0\"],\"xaxis\":\"x\",\"y\":[0.23246727876538387,0.10236374291853878,0.04551670248095331,0.031451455362375466,0.023442078530963077,0.01426059777300254,0.01914436413361985,0.016409454971674155,0.014065247118577847,0.023246727876538385,0.02598163703848408,0.029693299472553232,0.06212150810705216,0.11857784723578824,0.24125805821449503],\"yaxis\":\"y\",\"type\":\"bar\"}],\"name\":\"2019-05\"},{\"data\":[{\"alignmentgroup\":\"True\",\"hovertemplate\":\"<b>%{hovertext}</b><br><br> =expected<br>\\u041c\\u0435\\u0441\\u044f\\u0446=2019-06<br>\\u0413\\u0440\\u0430\\u043d\\u0438\\u0446\\u044b \\u0431\\u0430\\u043a\\u0435\\u0442\\u043e\\u0432=%{x}<br>score=%{y}<extra></extra>\",\"hovertext\":[\"2019-06\",\"2019-06\",\"2019-06\",\"2019-06\",\"2019-06\",\"2019-06\",\"2019-06\",\"2019-06\",\"2019-06\",\"2019-06\",\"2019-06\",\"2019-06\",\"2019-06\",\"2019-06\",\"2019-06\"],\"legendgroup\":\"expected\",\"marker\":{\"color\":\"#636efa\",\"pattern\":{\"shape\":\"\"}},\"name\":\"expected\",\"offsetgroup\":\"expected\",\"orientation\":\"v\",\"showlegend\":true,\"textposition\":\"auto\",\"x\":[\"0.0 - 0.07\",\"0.07 - 0.13\",\"0.13 - 0.2\",\"0.2 - 0.27\",\"0.27 - 0.33\",\"0.33 - 0.4\",\"0.4 - 0.47\",\"0.47 - 0.53\",\"0.53 - 0.6\",\"0.6 - 0.67\",\"0.67 - 0.73\",\"0.73 - 0.8\",\"0.8 - 0.87\",\"0.87 - 0.93\",\"0.93 - 1.0\"],\"xaxis\":\"x\",\"y\":[0.3585,0.07358,0.02172,0.01476,0.00968,0.00784,0.00802,0.00762,0.00638,0.01008,0.01306,0.01504,0.02792,0.07956,0.34624],\"yaxis\":\"y\",\"type\":\"bar\"},{\"alignmentgroup\":\"True\",\"hovertemplate\":\"<b>%{hovertext}</b><br><br> =actual<br>\\u041c\\u0435\\u0441\\u044f\\u0446=2019-06<br>\\u0413\\u0440\\u0430\\u043d\\u0438\\u0446\\u044b \\u0431\\u0430\\u043a\\u0435\\u0442\\u043e\\u0432=%{x}<br>score=%{y}<extra></extra>\",\"hovertext\":[\"2019-06\",\"2019-06\",\"2019-06\",\"2019-06\",\"2019-06\",\"2019-06\",\"2019-06\",\"2019-06\",\"2019-06\",\"2019-06\",\"2019-06\",\"2019-06\",\"2019-06\",\"2019-06\",\"2019-06\"],\"legendgroup\":\"actual\",\"marker\":{\"color\":\"#EF553B\",\"pattern\":{\"shape\":\"\"}},\"name\":\"actual\",\"offsetgroup\":\"actual\",\"orientation\":\"v\",\"showlegend\":true,\"textposition\":\"auto\",\"x\":[\"0.0 - 0.07\",\"0.07 - 0.13\",\"0.13 - 0.2\",\"0.2 - 0.27\",\"0.27 - 0.33\",\"0.33 - 0.4\",\"0.4 - 0.47\",\"0.47 - 0.53\",\"0.53 - 0.6\",\"0.6 - 0.67\",\"0.67 - 0.73\",\"0.73 - 0.8\",\"0.8 - 0.87\",\"0.87 - 0.93\",\"0.93 - 1.0\"],\"xaxis\":\"x\",\"y\":[0.22785065590312814,0.1053481331987891,0.04783047426841574,0.03289606458123108,0.02199798183652876,0.018163471241170535,0.017558022199798184,0.012916246215943492,0.014530776992936428,0.018567103935418768,0.030474268415741676,0.03007063572149344,0.06619576185671039,0.12391523713420786,0.2316851664984864],\"yaxis\":\"y\",\"type\":\"bar\"}],\"name\":\"2019-06\"},{\"data\":[{\"alignmentgroup\":\"True\",\"hovertemplate\":\"<b>%{hovertext}</b><br><br> =expected<br>\\u041c\\u0435\\u0441\\u044f\\u0446=2019-07<br>\\u0413\\u0440\\u0430\\u043d\\u0438\\u0446\\u044b \\u0431\\u0430\\u043a\\u0435\\u0442\\u043e\\u0432=%{x}<br>score=%{y}<extra></extra>\",\"hovertext\":[\"2019-07\",\"2019-07\",\"2019-07\",\"2019-07\",\"2019-07\",\"2019-07\",\"2019-07\",\"2019-07\",\"2019-07\",\"2019-07\",\"2019-07\",\"2019-07\",\"2019-07\",\"2019-07\",\"2019-07\"],\"legendgroup\":\"expected\",\"marker\":{\"color\":\"#636efa\",\"pattern\":{\"shape\":\"\"}},\"name\":\"expected\",\"offsetgroup\":\"expected\",\"orientation\":\"v\",\"showlegend\":true,\"textposition\":\"auto\",\"x\":[\"0.0 - 0.07\",\"0.07 - 0.13\",\"0.13 - 0.2\",\"0.2 - 0.27\",\"0.27 - 0.33\",\"0.33 - 0.4\",\"0.4 - 0.47\",\"0.47 - 0.53\",\"0.53 - 0.6\",\"0.6 - 0.67\",\"0.67 - 0.73\",\"0.73 - 0.8\",\"0.8 - 0.87\",\"0.87 - 0.93\",\"0.93 - 1.0\"],\"xaxis\":\"x\",\"y\":[0.3585,0.07358,0.02172,0.01476,0.00968,0.00784,0.00802,0.00762,0.00638,0.01008,0.01306,0.01504,0.02792,0.07956,0.34624],\"yaxis\":\"y\",\"type\":\"bar\"},{\"alignmentgroup\":\"True\",\"hovertemplate\":\"<b>%{hovertext}</b><br><br> =actual<br>\\u041c\\u0435\\u0441\\u044f\\u0446=2019-07<br>\\u0413\\u0440\\u0430\\u043d\\u0438\\u0446\\u044b \\u0431\\u0430\\u043a\\u0435\\u0442\\u043e\\u0432=%{x}<br>score=%{y}<extra></extra>\",\"hovertext\":[\"2019-07\",\"2019-07\",\"2019-07\",\"2019-07\",\"2019-07\",\"2019-07\",\"2019-07\",\"2019-07\",\"2019-07\",\"2019-07\",\"2019-07\",\"2019-07\",\"2019-07\",\"2019-07\",\"2019-07\"],\"legendgroup\":\"actual\",\"marker\":{\"color\":\"#EF553B\",\"pattern\":{\"shape\":\"\"}},\"name\":\"actual\",\"offsetgroup\":\"actual\",\"orientation\":\"v\",\"showlegend\":true,\"textposition\":\"auto\",\"x\":[\"0.0 - 0.07\",\"0.07 - 0.13\",\"0.13 - 0.2\",\"0.2 - 0.27\",\"0.27 - 0.33\",\"0.33 - 0.4\",\"0.4 - 0.47\",\"0.47 - 0.53\",\"0.53 - 0.6\",\"0.6 - 0.67\",\"0.67 - 0.73\",\"0.73 - 0.8\",\"0.8 - 0.87\",\"0.87 - 0.93\",\"0.93 - 1.0\"],\"xaxis\":\"x\",\"y\":[0.2400390625,0.1033203125,0.0380859375,0.032421875,0.0244140625,0.01640625,0.018359375,0.0162109375,0.0140625,0.0197265625,0.0224609375,0.02734375,0.0623046875,0.1244140625,0.2404296875],\"yaxis\":\"y\",\"type\":\"bar\"}],\"name\":\"2019-07\"},{\"data\":[{\"alignmentgroup\":\"True\",\"hovertemplate\":\"<b>%{hovertext}</b><br><br> =expected<br>\\u041c\\u0435\\u0441\\u044f\\u0446=2019-08<br>\\u0413\\u0440\\u0430\\u043d\\u0438\\u0446\\u044b \\u0431\\u0430\\u043a\\u0435\\u0442\\u043e\\u0432=%{x}<br>score=%{y}<extra></extra>\",\"hovertext\":[\"2019-08\",\"2019-08\",\"2019-08\",\"2019-08\",\"2019-08\",\"2019-08\",\"2019-08\",\"2019-08\",\"2019-08\",\"2019-08\",\"2019-08\",\"2019-08\",\"2019-08\",\"2019-08\",\"2019-08\"],\"legendgroup\":\"expected\",\"marker\":{\"color\":\"#636efa\",\"pattern\":{\"shape\":\"\"}},\"name\":\"expected\",\"offsetgroup\":\"expected\",\"orientation\":\"v\",\"showlegend\":true,\"textposition\":\"auto\",\"x\":[\"0.0 - 0.07\",\"0.07 - 0.13\",\"0.13 - 0.2\",\"0.2 - 0.27\",\"0.27 - 0.33\",\"0.33 - 0.4\",\"0.4 - 0.47\",\"0.47 - 0.53\",\"0.53 - 0.6\",\"0.6 - 0.67\",\"0.67 - 0.73\",\"0.73 - 0.8\",\"0.8 - 0.87\",\"0.87 - 0.93\",\"0.93 - 1.0\"],\"xaxis\":\"x\",\"y\":[0.3585,0.07358,0.02172,0.01476,0.00968,0.00784,0.00802,0.00762,0.00638,0.01008,0.01306,0.01504,0.02792,0.07956,0.34624],\"yaxis\":\"y\",\"type\":\"bar\"},{\"alignmentgroup\":\"True\",\"hovertemplate\":\"<b>%{hovertext}</b><br><br> =actual<br>\\u041c\\u0435\\u0441\\u044f\\u0446=2019-08<br>\\u0413\\u0440\\u0430\\u043d\\u0438\\u0446\\u044b \\u0431\\u0430\\u043a\\u0435\\u0442\\u043e\\u0432=%{x}<br>score=%{y}<extra></extra>\",\"hovertext\":[\"2019-08\",\"2019-08\",\"2019-08\",\"2019-08\",\"2019-08\",\"2019-08\",\"2019-08\",\"2019-08\",\"2019-08\",\"2019-08\",\"2019-08\",\"2019-08\",\"2019-08\",\"2019-08\",\"2019-08\"],\"legendgroup\":\"actual\",\"marker\":{\"color\":\"#EF553B\",\"pattern\":{\"shape\":\"\"}},\"name\":\"actual\",\"offsetgroup\":\"actual\",\"orientation\":\"v\",\"showlegend\":true,\"textposition\":\"auto\",\"x\":[\"0.0 - 0.07\",\"0.07 - 0.13\",\"0.13 - 0.2\",\"0.2 - 0.27\",\"0.27 - 0.33\",\"0.33 - 0.4\",\"0.4 - 0.47\",\"0.47 - 0.53\",\"0.53 - 0.6\",\"0.6 - 0.67\",\"0.67 - 0.73\",\"0.73 - 0.8\",\"0.8 - 0.87\",\"0.87 - 0.93\",\"0.93 - 1.0\"],\"xaxis\":\"x\",\"y\":[0.22311942201444965,0.09944751381215469,0.04547386315342117,0.029111772205694858,0.024011899702507437,0.01572460688482788,0.017849553761155972,0.016149596260093498,0.014662133446663833,0.019337016574585635,0.025074373140671482,0.03336166595835104,0.06183595410114747,0.12579685507862304,0.24904377390565235],\"yaxis\":\"y\",\"type\":\"bar\"}],\"name\":\"2019-08\"}]);\n",
              "                        }).then(function(){\n",
              "                            \n",
              "var gd = document.getElementById('baf6a4dc-68e3-4573-8329-021040d70933');\n",
              "var x = new MutationObserver(function (mutations, observer) {{\n",
              "        var display = window.getComputedStyle(gd).display;\n",
              "        if (!display || display === 'none') {{\n",
              "            console.log([gd, 'removed!']);\n",
              "            Plotly.purge(gd);\n",
              "            observer.disconnect();\n",
              "        }}\n",
              "}});\n",
              "\n",
              "// Listen for the removal of the full notebook cells\n",
              "var notebookContainer = gd.closest('#notebook-container');\n",
              "if (notebookContainer) {{\n",
              "    x.observe(notebookContainer, {childList: true});\n",
              "}}\n",
              "\n",
              "// Listen for the clearing of the current output cell\n",
              "var outputEl = gd.closest('.output');\n",
              "if (outputEl) {{\n",
              "    x.observe(outputEl, {childList: true});\n",
              "}}\n",
              "\n",
              "                        })                };                            </script>        </div>\n",
              "</body>\n",
              "</html>"
            ]
          },
          "metadata": {}
        },
        {
          "output_type": "stream",
          "name": "stdout",
          "text": [
            "Actual dates:  ['2018-10' '2018-11' '2018-12' '2019-01' '2019-02' '2019-03' '2019-04'\n",
            " '2019-05' '2019-06' '2019-07' '2019-08'] \n",
            "\n",
            "PSI by date:  [0.15684973946799904, 0.0030748875997473404, 0.0023781652740934413, 0.002995573324074608, 0.0027704542205133557, 0.002958640557645117, 0.27019988710167786, 0.24354824111930182, 0.2705986789166045, 0.22695283328057403, 0.24760581324065273]\n"
          ]
        }
      ]
    }
  ]
}